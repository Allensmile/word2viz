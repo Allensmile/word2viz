{
 "cells": [
  {
   "cell_type": "code",
   "execution_count": 1,
   "metadata": {
    "collapsed": true
   },
   "outputs": [],
   "source": [
    "import pandas as pd\n",
    "import seaborn as sns\n",
    "import numpy as np\n",
    "%matplotlib inline"
   ]
  },
  {
   "cell_type": "code",
   "execution_count": 2,
   "metadata": {
    "collapsed": false
   },
   "outputs": [],
   "source": [
    "df = pd.read_table(\"./data/glove.6B.100d.txt\", delimiter=\" \", header=None, index_col=0, quoting=3)"
   ]
  },
  {
   "cell_type": "code",
   "execution_count": 3,
   "metadata": {
    "collapsed": false
   },
   "outputs": [
    {
     "data": {
      "text/html": [
       "<div>\n",
       "<table border=\"1\" class=\"dataframe\">\n",
       "  <thead>\n",
       "    <tr style=\"text-align: right;\">\n",
       "      <th></th>\n",
       "      <th>1</th>\n",
       "      <th>2</th>\n",
       "      <th>3</th>\n",
       "      <th>4</th>\n",
       "      <th>5</th>\n",
       "      <th>6</th>\n",
       "      <th>7</th>\n",
       "      <th>8</th>\n",
       "      <th>9</th>\n",
       "      <th>10</th>\n",
       "      <th>...</th>\n",
       "      <th>91</th>\n",
       "      <th>92</th>\n",
       "      <th>93</th>\n",
       "      <th>94</th>\n",
       "      <th>95</th>\n",
       "      <th>96</th>\n",
       "      <th>97</th>\n",
       "      <th>98</th>\n",
       "      <th>99</th>\n",
       "      <th>100</th>\n",
       "    </tr>\n",
       "    <tr>\n",
       "      <th>0</th>\n",
       "      <th></th>\n",
       "      <th></th>\n",
       "      <th></th>\n",
       "      <th></th>\n",
       "      <th></th>\n",
       "      <th></th>\n",
       "      <th></th>\n",
       "      <th></th>\n",
       "      <th></th>\n",
       "      <th></th>\n",
       "      <th></th>\n",
       "      <th></th>\n",
       "      <th></th>\n",
       "      <th></th>\n",
       "      <th></th>\n",
       "      <th></th>\n",
       "      <th></th>\n",
       "      <th></th>\n",
       "      <th></th>\n",
       "      <th></th>\n",
       "      <th></th>\n",
       "    </tr>\n",
       "  </thead>\n",
       "  <tbody>\n",
       "    <tr>\n",
       "      <th>the</th>\n",
       "      <td>-0.038194</td>\n",
       "      <td>-0.244870</td>\n",
       "      <td>0.72812</td>\n",
       "      <td>-0.399610</td>\n",
       "      <td>0.083172</td>\n",
       "      <td>0.043953</td>\n",
       "      <td>-0.391410</td>\n",
       "      <td>0.334400</td>\n",
       "      <td>-0.57545</td>\n",
       "      <td>0.087459</td>\n",
       "      <td>...</td>\n",
       "      <td>0.016215</td>\n",
       "      <td>-0.017099</td>\n",
       "      <td>-0.389840</td>\n",
       "      <td>0.87424</td>\n",
       "      <td>-0.72569</td>\n",
       "      <td>-0.51058</td>\n",
       "      <td>-0.520280</td>\n",
       "      <td>-0.14590</td>\n",
       "      <td>0.82780</td>\n",
       "      <td>0.270620</td>\n",
       "    </tr>\n",
       "    <tr>\n",
       "      <th>,</th>\n",
       "      <td>-0.107670</td>\n",
       "      <td>0.110530</td>\n",
       "      <td>0.59812</td>\n",
       "      <td>-0.543610</td>\n",
       "      <td>0.673960</td>\n",
       "      <td>0.106630</td>\n",
       "      <td>0.038867</td>\n",
       "      <td>0.354810</td>\n",
       "      <td>0.06351</td>\n",
       "      <td>-0.094189</td>\n",
       "      <td>...</td>\n",
       "      <td>0.349510</td>\n",
       "      <td>-0.722600</td>\n",
       "      <td>0.375490</td>\n",
       "      <td>0.44410</td>\n",
       "      <td>-0.99059</td>\n",
       "      <td>0.61214</td>\n",
       "      <td>-0.351110</td>\n",
       "      <td>-0.83155</td>\n",
       "      <td>0.45293</td>\n",
       "      <td>0.082577</td>\n",
       "    </tr>\n",
       "    <tr>\n",
       "      <th>.</th>\n",
       "      <td>-0.339790</td>\n",
       "      <td>0.209410</td>\n",
       "      <td>0.46348</td>\n",
       "      <td>-0.647920</td>\n",
       "      <td>-0.383770</td>\n",
       "      <td>0.038034</td>\n",
       "      <td>0.171270</td>\n",
       "      <td>0.159780</td>\n",
       "      <td>0.46619</td>\n",
       "      <td>-0.019169</td>\n",
       "      <td>...</td>\n",
       "      <td>-0.063351</td>\n",
       "      <td>-0.674120</td>\n",
       "      <td>-0.068895</td>\n",
       "      <td>0.53604</td>\n",
       "      <td>-0.87773</td>\n",
       "      <td>0.31802</td>\n",
       "      <td>-0.392420</td>\n",
       "      <td>-0.23394</td>\n",
       "      <td>0.47298</td>\n",
       "      <td>-0.028803</td>\n",
       "    </tr>\n",
       "    <tr>\n",
       "      <th>of</th>\n",
       "      <td>-0.152900</td>\n",
       "      <td>-0.242790</td>\n",
       "      <td>0.89837</td>\n",
       "      <td>0.169960</td>\n",
       "      <td>0.535160</td>\n",
       "      <td>0.487840</td>\n",
       "      <td>-0.588260</td>\n",
       "      <td>-0.179820</td>\n",
       "      <td>-1.35810</td>\n",
       "      <td>0.425410</td>\n",
       "      <td>...</td>\n",
       "      <td>0.187120</td>\n",
       "      <td>-0.018488</td>\n",
       "      <td>-0.267570</td>\n",
       "      <td>0.72700</td>\n",
       "      <td>-0.59363</td>\n",
       "      <td>-0.34839</td>\n",
       "      <td>-0.560940</td>\n",
       "      <td>-0.59100</td>\n",
       "      <td>1.00390</td>\n",
       "      <td>0.206640</td>\n",
       "    </tr>\n",
       "    <tr>\n",
       "      <th>to</th>\n",
       "      <td>-0.189700</td>\n",
       "      <td>0.050024</td>\n",
       "      <td>0.19084</td>\n",
       "      <td>-0.049184</td>\n",
       "      <td>-0.089737</td>\n",
       "      <td>0.210060</td>\n",
       "      <td>-0.549520</td>\n",
       "      <td>0.098377</td>\n",
       "      <td>-0.20135</td>\n",
       "      <td>0.342410</td>\n",
       "      <td>...</td>\n",
       "      <td>-0.131340</td>\n",
       "      <td>0.058617</td>\n",
       "      <td>-0.318690</td>\n",
       "      <td>-0.61419</td>\n",
       "      <td>-0.62393</td>\n",
       "      <td>-0.41548</td>\n",
       "      <td>-0.038175</td>\n",
       "      <td>-0.39804</td>\n",
       "      <td>0.47647</td>\n",
       "      <td>-0.159830</td>\n",
       "    </tr>\n",
       "  </tbody>\n",
       "</table>\n",
       "<p>5 rows × 100 columns</p>\n",
       "</div>"
      ],
      "text/plain": [
       "          1         2        3         4         5         6         7    \\\n",
       "0                                                                          \n",
       "the -0.038194 -0.244870  0.72812 -0.399610  0.083172  0.043953 -0.391410   \n",
       ",   -0.107670  0.110530  0.59812 -0.543610  0.673960  0.106630  0.038867   \n",
       ".   -0.339790  0.209410  0.46348 -0.647920 -0.383770  0.038034  0.171270   \n",
       "of  -0.152900 -0.242790  0.89837  0.169960  0.535160  0.487840 -0.588260   \n",
       "to  -0.189700  0.050024  0.19084 -0.049184 -0.089737  0.210060 -0.549520   \n",
       "\n",
       "          8        9         10     ...          91        92        93   \\\n",
       "0                                   ...                                    \n",
       "the  0.334400 -0.57545  0.087459    ...     0.016215 -0.017099 -0.389840   \n",
       ",    0.354810  0.06351 -0.094189    ...     0.349510 -0.722600  0.375490   \n",
       ".    0.159780  0.46619 -0.019169    ...    -0.063351 -0.674120 -0.068895   \n",
       "of  -0.179820 -1.35810  0.425410    ...     0.187120 -0.018488 -0.267570   \n",
       "to   0.098377 -0.20135  0.342410    ...    -0.131340  0.058617 -0.318690   \n",
       "\n",
       "         94       95       96        97       98       99        100  \n",
       "0                                                                     \n",
       "the  0.87424 -0.72569 -0.51058 -0.520280 -0.14590  0.82780  0.270620  \n",
       ",    0.44410 -0.99059  0.61214 -0.351110 -0.83155  0.45293  0.082577  \n",
       ".    0.53604 -0.87773  0.31802 -0.392420 -0.23394  0.47298 -0.028803  \n",
       "of   0.72700 -0.59363 -0.34839 -0.560940 -0.59100  1.00390  0.206640  \n",
       "to  -0.61419 -0.62393 -0.41548 -0.038175 -0.39804  0.47647 -0.159830  \n",
       "\n",
       "[5 rows x 100 columns]"
      ]
     },
     "execution_count": 3,
     "metadata": {},
     "output_type": "execute_result"
    }
   ],
   "source": [
    "df.head()"
   ]
  },
  {
   "cell_type": "code",
   "execution_count": 4,
   "metadata": {
    "collapsed": false
   },
   "outputs": [],
   "source": [
    "words = set(df.index)"
   ]
  },
  {
   "cell_type": "code",
   "execution_count": 5,
   "metadata": {
    "collapsed": false
   },
   "outputs": [
    {
     "data": {
      "text/plain": [
       "True"
      ]
     },
     "execution_count": 5,
     "metadata": {},
     "output_type": "execute_result"
    }
   ],
   "source": [
    "\"happy\" in words"
   ]
  },
  {
   "cell_type": "code",
   "execution_count": 6,
   "metadata": {
    "collapsed": false
   },
   "outputs": [
    {
     "data": {
      "text/plain": [
       "<seaborn.matrix.ClusterGrid at 0x7f8f2278cf98>"
      ]
     },
     "execution_count": 6,
     "metadata": {},
     "output_type": "execute_result"
    },
    {
     "data": {
      "image/png": "[encoded data removed]",
      "text/plain": [
       "<matplotlib.figure.Figure at 0x7f8f2278cf28>"
      ]
     },
     "metadata": {},
     "output_type": "display_data"
    }
   ],
   "source": [
    "sns.clustermap(df.loc[[\"america\", \"uk\", \"usa\", \"britain\", \"queen\", \"president\", \"democracy\", \"monarchy\", \"donut\", \"tea\"]].transpose().corr())"
   ]
  },
  {
   "cell_type": "code",
   "execution_count": 7,
   "metadata": {
    "collapsed": false
   },
   "outputs": [
    {
     "data": {
      "text/plain": [
       "0\n",
       "uk           -15.157264\n",
       "london       -10.304413\n",
       "royal         -8.376694\n",
       "britain       -7.462262\n",
       "queen         -6.513103\n",
       "monarchy      -4.972842\n",
       "pound         -4.784531\n",
       "tea           -2.943475\n",
       "bloody        -2.550980\n",
       "dollar        -2.123131\n",
       "democracy     -1.146089\n",
       "donut          1.312026\n",
       "capitalist     2.285675\n",
       "america        4.714866\n",
       "president      4.910802\n",
       "washington     6.091099\n",
       "usa           13.186731\n",
       "dtype: float64"
      ]
     },
     "execution_count": 7,
     "metadata": {},
     "output_type": "execute_result"
    }
   ],
   "source": [
    "us_uk = [\"america\", \"uk\", \"usa\", \"britain\", \"queen\", \"president\", \"democracy\", \"monarchy\",\\\n",
    "         \"donut\", \"tea\", \"capitalist\", \"royal\", \"pound\", \"dollar\", \"bloody\", \"london\", \"washington\"]\n",
    "df.loc[us_uk].dot(df.loc[\"usa\"]-df.loc[\"uk\"]).sort_values()"
   ]
  },
  {
   "cell_type": "code",
   "execution_count": 8,
   "metadata": {
    "collapsed": true
   },
   "outputs": [],
   "source": [
    "emotions=[\"greed\", \"anger\", \"sympathy\", \"love\", \"hate\", \"pride\", \"sloth\",\n",
    "          \"agression\", \"hitler\", \"pope\", \"america\", \"rich\", \"poor\", \"capitalist\",\n",
    "         \"envy\", \"wrath\", \"lust\", \"gluttony\", \"murder\", \"charity\", \"money\", \"god\", \"jesus\", \"bible\", \"good\", \"evil\"]"
   ]
  },
  {
   "cell_type": "code",
   "execution_count": 9,
   "metadata": {
    "collapsed": false
   },
   "outputs": [
    {
     "data": {
      "text/plain": [
       "0\n",
       "evil         -20.101657\n",
       "sloth        -10.708788\n",
       "gluttony      -8.684462\n",
       "greed         -7.803654\n",
       "lust          -7.688826\n",
       "agression     -7.216452\n",
       "god           -6.608411\n",
       "wrath         -6.531869\n",
       "hitler        -6.212119\n",
       "murder        -4.323471\n",
       "capitalist    -3.634736\n",
       "envy          -2.849841\n",
       "jesus         -2.830478\n",
       "hate          -0.877109\n",
       "anger         -0.124154\n",
       "pope           0.307460\n",
       "sympathy       2.727666\n",
       "bible          2.979063\n",
       "pride          4.078406\n",
       "charity        4.156006\n",
       "america        4.713974\n",
       "love           5.227684\n",
       "rich          10.047536\n",
       "money         10.221347\n",
       "poor          11.645484\n",
       "good          20.263550\n",
       "dtype: float64"
      ]
     },
     "execution_count": 9,
     "metadata": {},
     "output_type": "execute_result"
    }
   ],
   "source": [
    "df.loc[emotions].dot(df.loc[\"good\"] - df.loc[\"evil\"]).sort_values()"
   ]
  },
  {
   "cell_type": "code",
   "execution_count": 10,
   "metadata": {
    "collapsed": false
   },
   "outputs": [
    {
     "data": {
      "text/plain": [
       "0\n",
       "lonj       -15.348462\n",
       ".000001    -14.843112\n",
       ".0014      -13.973687\n",
       "3.7995     -13.734511\n",
       "ufot       -13.730356\n",
       "713-3638   -13.570108\n",
       "linawati   -13.543055\n",
       "aniano     -13.496004\n",
       "jourand    -13.441816\n",
       "tobaiwa    -13.440469\n",
       "dtype: float64"
      ]
     },
     "execution_count": 10,
     "metadata": {},
     "output_type": "execute_result"
    }
   ],
   "source": [
    "df.dot(df.loc[\"good\"]).sort_values().head(10)"
   ]
  },
  {
   "cell_type": "code",
   "execution_count": 11,
   "metadata": {
    "collapsed": false
   },
   "outputs": [],
   "source": [
    "lens = (df**2).sum(axis=1).sort_values()"
   ]
  },
  {
   "cell_type": "code",
   "execution_count": 12,
   "metadata": {
    "collapsed": false
   },
   "outputs": [
    {
     "data": {
      "text/plain": [
       "0\n",
       "str95bb                                          0.001382\n",
       "k978-1                                           0.001417\n",
       "bb96                                             0.001529\n",
       "k587-1                                           0.001585\n",
       "k977-1                                           0.001649\n",
       "js94bb                                           0.001715\n",
       "http://www.mediabynumbers.com                    0.001766\n",
       "mo95                                             0.001783\n",
       "bulletinyyy                                      0.001784\n",
       "bdb94                                            0.001910\n",
       "kd97                                             0.018495\n",
       "bb94                                             0.018668\n",
       "24aou94                                          0.025352\n",
       "em96                                             0.028784\n",
       "srivalo                                          0.029242\n",
       "piyanart                                         0.029808\n",
       "rw95                                             0.082742\n",
       "js04bb                                           0.083395\n",
       "str94                                            0.087519\n",
       "gph04bb                                          0.112307\n",
       "greg.wilcoxdailynews.com                         0.118070\n",
       "kd94                                             0.125126\n",
       "js03                                             0.127537\n",
       "ooooooooooooooooooooooooooooooooooooooo          0.161328\n",
       "kd96                                             0.165208\n",
       "28aou94                                          0.260188\n",
       "kd95                                             0.262399\n",
       "27aou94                                          0.405471\n",
       "65stk                                            0.414601\n",
       "bb97                                             0.476856\n",
       "                                                   ...   \n",
       "cw96                                             1.375529\n",
       "wc2003-wis                                       1.382555\n",
       "oly-2004-weightlifting                           1.386657\n",
       "frontpage-1stld                                  1.402234\n",
       "brnws                                            1.408851\n",
       "rsst4                                            1.427783\n",
       "goal_florida                                     1.441851\n",
       "flashaafp.com                                    1.442414\n",
       "lg03                                             1.444380\n",
       "oly-2004-doping                                  1.466818\n",
       "+.31                                             1.474209\n",
       "+.56                                             1.475409\n",
       "http://www.nwguild.org                           1.478857\n",
       "nasdaq100                                        1.484455\n",
       "rsst2                                            1.486730\n",
       "_____________________________________________    1.544300\n",
       "http://www.storaenso.com                         1.548327\n",
       "wc2003-sri                                       1.562310\n",
       "goal_toronto                                     1.564803\n",
       "localweather                                     1.568398\n",
       "michael.hiltzik@latimes.com                      1.580461\n",
       "rsst3                                            1.581975\n",
       "_____________                                    1.621144\n",
       "goals_none                                       1.640933\n",
       "mleggett@statesman.com                           1.645835\n",
       "rw94                                             1.648607\n",
       "+.19                                             1.652996\n",
       "mohl@globe.com                                   1.653408\n",
       "3.7506                                           1.675303\n",
       "zhadh                                            1.679971\n",
       "dtype: float64"
      ]
     },
     "execution_count": 12,
     "metadata": {},
     "output_type": "execute_result"
    }
   ],
   "source": [
    "lens.head(100)"
   ]
  },
  {
   "cell_type": "code",
   "execution_count": 13,
   "metadata": {
    "collapsed": false
   },
   "outputs": [
    {
     "data": {
      "text/plain": [
       "0\n",
       "nah                73.318085\n",
       "teaspoon           73.443799\n",
       "tuh                73.614094\n",
       "officership        73.631571\n",
       "castile-la         73.857493\n",
       "luh                73.908137\n",
       "keer               74.073717\n",
       "geometridae        74.207083\n",
       "carniola           74.224132\n",
       "near-earth         74.310332\n",
       "telefono           74.646417\n",
       "weydert            74.698251\n",
       "juh                74.786068\n",
       "yanow              74.839693\n",
       "(817)              75.110571\n",
       "pulmonate          75.150834\n",
       "shuh               75.648988\n",
       "creutzfeldt        75.844276\n",
       "sah                76.250629\n",
       "1-800-444-0267     76.336280\n",
       "canoer             76.651183\n",
       "526-5456           76.770345\n",
       "insectivores       76.948117\n",
       "īn                 77.025628\n",
       "816-822-8448       77.132757\n",
       "globe.com          77.398279\n",
       "razavi             77.643465\n",
       "syre               77.745195\n",
       "4300               77.788347\n",
       "100.00             77.822233\n",
       "                     ...    \n",
       "kuh                89.567569\n",
       "eighteens          89.978251\n",
       "9a-4p              90.112064\n",
       "passeriformes      90.593647\n",
       "hushen             91.628665\n",
       "225-issue          91.805457\n",
       "nikkei-225         91.972066\n",
       "404-526-5456       92.122319\n",
       "hah                92.678185\n",
       "#e                 92.755423\n",
       "resend             92.869484\n",
       "20003              93.496107\n",
       "passerine          94.214744\n",
       "daybook            94.303100\n",
       "nytimes            95.092570\n",
       "fachhochschule     98.162934\n",
       "212-556-4204       99.863230\n",
       "30-share          101.613546\n",
       "gmina             102.688827\n",
       "herein            102.793261\n",
       "stoxx             103.764608\n",
       "tael              104.099148\n",
       "100-share         105.043481\n",
       "coxnet            105.523972\n",
       "householder       105.627977\n",
       "non-mandatory     105.692315\n",
       "taiex             111.898939\n",
       "nonsubscribers    132.659713\n",
       "republish         139.830045\n",
       "non-families      151.570944\n",
       "dtype: float64"
      ]
     },
     "execution_count": 13,
     "metadata": {},
     "output_type": "execute_result"
    }
   ],
   "source": [
    "lens.tail(100)"
   ]
  },
  {
   "cell_type": "code",
   "execution_count": 14,
   "metadata": {
    "collapsed": false
   },
   "outputs": [
    {
     "name": "stderr",
     "output_type": "stream",
     "text": [
      "/home/julia/anaconda3/lib/python3.5/site-packages/pandas/core/generic.py:4256: RuntimeWarning: unorderable types: str() > float(), sort order is undefined for incomparable objects\n",
      "  return_indexers=True)\n"
     ]
    }
   ],
   "source": [
    "dfn = df.div(np.sqrt(lens), axis='index')"
   ]
  },
  {
   "cell_type": "code",
   "execution_count": 15,
   "metadata": {
    "collapsed": false
   },
   "outputs": [
    {
     "data": {
      "text/plain": [
       "0\n",
       "the              1.0\n",
       ",                1.0\n",
       ".                1.0\n",
       "of               1.0\n",
       "to               1.0\n",
       "and              1.0\n",
       "in               1.0\n",
       "a                1.0\n",
       "\"                1.0\n",
       "'s               1.0\n",
       "for              1.0\n",
       "-                1.0\n",
       "that             1.0\n",
       "on               1.0\n",
       "is               1.0\n",
       "was              1.0\n",
       "said             1.0\n",
       "with             1.0\n",
       "he               1.0\n",
       "as               1.0\n",
       "it               1.0\n",
       "by               1.0\n",
       "at               1.0\n",
       "(                1.0\n",
       ")                1.0\n",
       "from             1.0\n",
       "his              1.0\n",
       "''               1.0\n",
       "``               1.0\n",
       "an               1.0\n",
       "                ... \n",
       "fardell          1.0\n",
       "nurc             1.0\n",
       "sauzal           1.0\n",
       "gousmi           1.0\n",
       "numbskulls       1.0\n",
       "visalakshi       1.0\n",
       "lieserl          1.0\n",
       "ulundurpet       1.0\n",
       "arpita           1.0\n",
       "ineta            1.0\n",
       "whirlow          1.0\n",
       "wanz             1.0\n",
       "t22              1.0\n",
       "slann            1.0\n",
       "kunimoto         1.0\n",
       "altares          1.0\n",
       "cipolletti       1.0\n",
       "sherwoods        1.0\n",
       "sullana          1.0\n",
       "29km             1.0\n",
       "sigarms          1.0\n",
       "katuna           1.0\n",
       "aqm              1.0\n",
       "1.3775           1.0\n",
       "corythosaurus    1.0\n",
       "chanty           1.0\n",
       "kronik           1.0\n",
       "rolonda          1.0\n",
       "zsombor          1.0\n",
       "sandberger       1.0\n",
       "dtype: float64"
      ]
     },
     "execution_count": 15,
     "metadata": {},
     "output_type": "execute_result"
    }
   ],
   "source": [
    "(dfn**2).sum(axis=1)"
   ]
  },
  {
   "cell_type": "code",
   "execution_count": 16,
   "metadata": {
    "collapsed": false
   },
   "outputs": [
    {
     "data": {
      "text/plain": [
       "0\n",
       "or              0.484826\n",
       "become          0.485903\n",
       "body            0.486417\n",
       "each            0.486643\n",
       "common          0.486916\n",
       "siblings        0.486975\n",
       "traditional     0.487294\n",
       "persons         0.487774\n",
       "prominent       0.487964\n",
       "actors          0.488345\n",
       "actress         0.488447\n",
       "figure          0.488710\n",
       "mating          0.491442\n",
       "newborn         0.492286\n",
       "known           0.492897\n",
       "baby            0.493248\n",
       "presence        0.493313\n",
       "pairs           0.493345\n",
       "background      0.494606\n",
       "character       0.496153\n",
       "mother          0.496882\n",
       "naked           0.497098\n",
       "%               0.497665\n",
       "her             0.498744\n",
       "peers           0.498956\n",
       "lesbian         0.499557\n",
       "performers      0.499670\n",
       "appearance      0.499907\n",
       "individual      0.500526\n",
       "stage           0.501309\n",
       "                  ...   \n",
       "same            0.544538\n",
       "teen            0.549250\n",
       "sexes           0.550443\n",
       "heterosexual    0.553323\n",
       "mothers         0.556905\n",
       "boys            0.561456\n",
       "girl            0.566678\n",
       "gender          0.570441\n",
       "pregnant        0.571442\n",
       "teenage         0.576772\n",
       "adults          0.580377\n",
       "children        0.581722\n",
       "sexual          0.583580\n",
       "black           0.592151\n",
       "men             0.602081\n",
       "younger         0.607120\n",
       "girls           0.613270\n",
       "age             0.618235\n",
       "older           0.622182\n",
       "offspring       0.624992\n",
       "child           0.628372\n",
       "sex             0.629718\n",
       "females         0.637862\n",
       "young           0.643119\n",
       "woman           0.655218\n",
       "males           0.668650\n",
       "women           0.683464\n",
       "adult           0.700379\n",
       "female          0.946498\n",
       "male            1.000000\n",
       "dtype: float64"
      ]
     },
     "execution_count": 16,
     "metadata": {},
     "output_type": "execute_result"
    }
   ],
   "source": [
    "dfn.dot(dfn.loc[\"male\"]).sort_values().tail(100)"
   ]
  },
  {
   "cell_type": "code",
   "execution_count": 17,
   "metadata": {
    "collapsed": false
   },
   "outputs": [
    {
     "name": "stdout",
     "output_type": "stream",
     "text": [
      "81\n"
     ]
    }
   ],
   "source": [
    "table = dfn.dot(dfn.loc[[\"male\", \"female\"]].transpose()).query(\"male+female > 1\")\n",
    "print(len(table))"
   ]
  },
  {
   "cell_type": "code",
   "execution_count": 18,
   "metadata": {
    "collapsed": false
   },
   "outputs": [
    {
     "data": {
      "text/html": [
       "<div>\n",
       "<table border=\"1\" class=\"dataframe\">\n",
       "  <thead>\n",
       "    <tr style=\"text-align: right;\">\n",
       "      <th></th>\n",
       "      <th>male</th>\n",
       "      <th>female</th>\n",
       "    </tr>\n",
       "    <tr>\n",
       "      <th>0</th>\n",
       "      <th></th>\n",
       "      <th></th>\n",
       "    </tr>\n",
       "  </thead>\n",
       "  <tbody>\n",
       "    <tr>\n",
       "      <th>as</th>\n",
       "      <td>0.469128</td>\n",
       "      <td>0.538488</td>\n",
       "    </tr>\n",
       "    <tr>\n",
       "      <th>one</th>\n",
       "      <td>0.503599</td>\n",
       "      <td>0.554598</td>\n",
       "    </tr>\n",
       "    <tr>\n",
       "      <th>her</th>\n",
       "      <td>0.498744</td>\n",
       "      <td>0.538026</td>\n",
       "    </tr>\n",
       "    <tr>\n",
       "      <th>than</th>\n",
       "      <td>0.505965</td>\n",
       "      <td>0.511310</td>\n",
       "    </tr>\n",
       "    <tr>\n",
       "      <th>only</th>\n",
       "      <td>0.517894</td>\n",
       "      <td>0.538180</td>\n",
       "    </tr>\n",
       "  </tbody>\n",
       "</table>\n",
       "</div>"
      ],
      "text/plain": [
       "0         male    female\n",
       "0                       \n",
       "as    0.469128  0.538488\n",
       "one   0.503599  0.554598\n",
       "her   0.498744  0.538026\n",
       "than  0.505965  0.511310\n",
       "only  0.517894  0.538180"
      ]
     },
     "execution_count": 18,
     "metadata": {},
     "output_type": "execute_result"
    }
   ],
   "source": [
    "table.head()"
   ]
  },
  {
   "cell_type": "code",
   "execution_count": 19,
   "metadata": {
    "collapsed": false
   },
   "outputs": [],
   "source": [
    "%load_ext rpy2.ipython"
   ]
  },
  {
   "cell_type": "code",
   "execution_count": 20,
   "metadata": {
    "collapsed": false
   },
   "outputs": [],
   "source": [
    "df_plot=table.drop([\"male\", \"female\"]).reset_index().rename(columns={0:\"name\"})"
   ]
  },
  {
   "cell_type": "code",
   "execution_count": 21,
   "metadata": {
    "collapsed": false
   },
   "outputs": [
    {
     "data": {
      "image/png": "[encoded data removed]"
     },
     "metadata": {},
     "output_type": "display_data"
    }
   ],
   "source": [
    "%%R -i df_plot\n",
    "library(ggplot2)\n",
    "\n",
    "\n",
    "\n",
    "ggplot(df_plot, aes(female, male, label=name)) +\n",
    "  geom_text()"
   ]
  },
  {
   "cell_type": "code",
   "execution_count": 28,
   "metadata": {
    "collapsed": false
   },
   "outputs": [
    {
     "data": {
      "text/plain": [
       "0\n",
       "7-year         0.708460\n",
       "8-year         0.710718\n",
       "14-year        0.714901\n",
       "her            0.715275\n",
       "babies         0.717000\n",
       "infant         0.720102\n",
       "ager           0.724896\n",
       "wife           0.726473\n",
       "parents        0.729820\n",
       "9-year         0.732245\n",
       "boys           0.733574\n",
       "mom            0.735259\n",
       "grandmother    0.736064\n",
       "newborn        0.737767\n",
       "children       0.739146\n",
       "sister         0.758983\n",
       "girlfriend     0.760037\n",
       "teenager       0.767945\n",
       "teenage        0.782946\n",
       "teen           0.788413\n",
       "daughter       0.800701\n",
       "toddler        0.811255\n",
       "baby           0.821129\n",
       "girls          0.827614\n",
       "pregnant       0.829248\n",
       "child          0.844878\n",
       "mother         0.872962\n",
       "woman          0.939702\n",
       "boy            0.980564\n",
       "girl           1.035671\n",
       "dtype: float64"
      ]
     },
     "execution_count": 28,
     "metadata": {},
     "output_type": "execute_result"
    }
   ],
   "source": [
    "dfn.dot(dfn.loc[\"boy\"] - dfn.loc[\"man\"] + dfn.loc[\"woman\"]).sort_values().tail(30)"
   ]
  },
  {
   "cell_type": "code",
   "execution_count": 29,
   "metadata": {
    "collapsed": false
   },
   "outputs": [
    {
     "data": {
      "text/plain": [
       "0\n",
       "birth         22.115072\n",
       "husband       22.122022\n",
       "young         22.159226\n",
       "boys          22.347484\n",
       "adult         22.491318\n",
       "girlfriend    22.630204\n",
       "sex           22.718939\n",
       "herself       22.882361\n",
       "actress       23.279851\n",
       "teenage       23.332335\n",
       "women         23.471239\n",
       "male          23.522888\n",
       "babies        23.531585\n",
       "sister        24.142241\n",
       "parents       24.196330\n",
       "female        24.780417\n",
       "teen          25.452329\n",
       "wife          25.647825\n",
       "she           26.090026\n",
       "pregnant      26.602198\n",
       "children      26.651783\n",
       "baby          27.364269\n",
       "girls         27.931803\n",
       "daughter      28.271996\n",
       "child         28.300717\n",
       "her           28.382846\n",
       "mother        29.500029\n",
       "boy           30.271538\n",
       "woman         32.708623\n",
       "girl          34.561845\n",
       "dtype: float64"
      ]
     },
     "execution_count": 29,
     "metadata": {},
     "output_type": "execute_result"
    }
   ],
   "source": [
    "df.dot(df.loc[\"boy\"] - df.loc[\"man\"] + df.loc[\"woman\"]).sort_values().tail(30)"
   ]
  },
  {
   "cell_type": "code",
   "execution_count": 23,
   "metadata": {
    "collapsed": false
   },
   "outputs": [],
   "source": [
    "size = df.loc[\"5\"] - df.loc[\"3\"]\n",
    "say = df.loc[\"three\"] - df.loc[\"3\"]"
   ]
  },
  {
   "cell_type": "code",
   "execution_count": 24,
   "metadata": {
    "collapsed": false
   },
   "outputs": [],
   "source": [
    "nums = [\"1\", \"2\", \"3\", \"4\", \"5\", \"6\", \"7\", \"8\", \"9\", \"10\", \"14\", \"-10\", \"0\", \"40\", \"150\", \"10000\", \"zero\", \"one\", \"two\", \"three\", \"five\", \"forty\", \"fourteen\", \"hundred\", \"million\", \"thousand\"]\n",
    "proj = pd.DataFrame([size, say], index=[\"size\", \"say\"]).transpose()"
   ]
  },
  {
   "cell_type": "code",
   "execution_count": 25,
   "metadata": {
    "collapsed": false
   },
   "outputs": [],
   "source": [
    "liczby = df.loc[nums].dot(proj)"
   ]
  },
  {
   "cell_type": "code",
   "execution_count": 26,
   "metadata": {
    "collapsed": true
   },
   "outputs": [],
   "source": [
    "liczby[\"name\"] = liczby.index"
   ]
  },
  {
   "cell_type": "code",
   "execution_count": 27,
   "metadata": {
    "collapsed": false
   },
   "outputs": [
    {
     "data": {
      "image/png": "[encoded data removed]"
     },
     "metadata": {},
     "output_type": "display_data"
    }
   ],
   "source": [
    "%%R -i liczby\n",
    "library(ggplot2)\n",
    "\n",
    "ggplot(liczby, aes(size, say, label=name)) +\n",
    "  geom_text()"
   ]
  },
  {
   "cell_type": "code",
   "execution_count": null,
   "metadata": {
    "collapsed": true
   },
   "outputs": [],
   "source": []
  }
 ],
 "metadata": {
  "anaconda-cloud": {},
  "kernelspec": {
   "display_name": "Python [Root]",
   "language": "python",
   "name": "Python [Root]"
  },
  "language_info": {
   "codemirror_mode": {
    "name": "ipython",
    "version": 3
   },
   "file_extension": ".py",
   "mimetype": "text/x-python",
   "name": "python",
   "nbconvert_exporter": "python",
   "pygments_lexer": "ipython3",
   "version": "3.5.2"
  }
 },
 "nbformat": 4,
 "nbformat_minor": 0
}
