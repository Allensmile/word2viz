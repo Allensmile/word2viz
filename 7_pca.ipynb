{
 "cells": [
  {
   "cell_type": "code",
   "execution_count": 1,
   "metadata": {
    "collapsed": true
   },
   "outputs": [],
   "source": [
    "import myutils as my\n",
    "import pandas as pd\n",
    "import seaborn as sns\n",
    "import numpy as np\n",
    "from sklearn.decomposition import PCA\n",
    "%matplotlib inline\n",
    "%load_ext rpy2.ipython"
   ]
  },
  {
   "cell_type": "code",
   "execution_count": 2,
   "metadata": {
    "collapsed": true
   },
   "outputs": [],
   "source": [
    "df = pd.DataFrame(pd.read_csv(\"./data/minimal.50d.3f.csv\")).set_index(\"0\")"
   ]
  },
  {
   "cell_type": "code",
   "execution_count": 3,
   "metadata": {
    "collapsed": true
   },
   "outputs": [],
   "source": [
    "pca = PCA(n_components = 2)"
   ]
  },
  {
   "cell_type": "code",
   "execution_count": 23,
   "metadata": {
    "collapsed": true
   },
   "outputs": [],
   "source": [
    "nums = [\"1\", \"2\", \"3\", \"4\", \"5\", \"6\", \"7\",  \"one\", \"two\", \"three\", \"four\", \"five\", \"six\", \"seven\"]\n"
   ]
  },
  {
   "cell_type": "code",
   "execution_count": 24,
   "metadata": {
    "collapsed": false
   },
   "outputs": [
    {
     "data": {
      "text/plain": [
       "PCA(copy=True, n_components=2, whiten=False)"
      ]
     },
     "execution_count": 24,
     "metadata": {},
     "output_type": "execute_result"
    }
   ],
   "source": [
    "pca.fit(df.loc[nums])"
   ]
  },
  {
   "cell_type": "code",
   "execution_count": 25,
   "metadata": {
    "collapsed": false
   },
   "outputs": [
    {
     "data": {
      "text/html": [
       "<div>\n",
       "<table border=\"1\" class=\"dataframe\">\n",
       "  <thead>\n",
       "    <tr style=\"text-align: right;\">\n",
       "      <th></th>\n",
       "      <th>x</th>\n",
       "      <th>y</th>\n",
       "      <th>name</th>\n",
       "    </tr>\n",
       "  </thead>\n",
       "  <tbody>\n",
       "    <tr>\n",
       "      <th>0</th>\n",
       "      <td>-2.441206</td>\n",
       "      <td>-0.789029</td>\n",
       "      <td>1</td>\n",
       "    </tr>\n",
       "    <tr>\n",
       "      <th>1</th>\n",
       "      <td>-2.171339</td>\n",
       "      <td>-0.361372</td>\n",
       "      <td>2</td>\n",
       "    </tr>\n",
       "    <tr>\n",
       "      <th>2</th>\n",
       "      <td>-2.090134</td>\n",
       "      <td>0.052437</td>\n",
       "      <td>3</td>\n",
       "    </tr>\n",
       "    <tr>\n",
       "      <th>3</th>\n",
       "      <td>-1.973849</td>\n",
       "      <td>0.238422</td>\n",
       "      <td>4</td>\n",
       "    </tr>\n",
       "    <tr>\n",
       "      <th>4</th>\n",
       "      <td>-1.729182</td>\n",
       "      <td>0.223356</td>\n",
       "      <td>5</td>\n",
       "    </tr>\n",
       "    <tr>\n",
       "      <th>5</th>\n",
       "      <td>-1.841273</td>\n",
       "      <td>0.442475</td>\n",
       "      <td>6</td>\n",
       "    </tr>\n",
       "    <tr>\n",
       "      <th>6</th>\n",
       "      <td>-1.788175</td>\n",
       "      <td>0.463689</td>\n",
       "      <td>7</td>\n",
       "    </tr>\n",
       "    <tr>\n",
       "      <th>7</th>\n",
       "      <td>1.758569</td>\n",
       "      <td>-2.287331</td>\n",
       "      <td>one</td>\n",
       "    </tr>\n",
       "    <tr>\n",
       "      <th>8</th>\n",
       "      <td>2.339540</td>\n",
       "      <td>-0.104127</td>\n",
       "      <td>two</td>\n",
       "    </tr>\n",
       "    <tr>\n",
       "      <th>9</th>\n",
       "      <td>2.105279</td>\n",
       "      <td>0.198543</td>\n",
       "      <td>three</td>\n",
       "    </tr>\n",
       "    <tr>\n",
       "      <th>10</th>\n",
       "      <td>2.075431</td>\n",
       "      <td>0.355726</td>\n",
       "      <td>four</td>\n",
       "    </tr>\n",
       "    <tr>\n",
       "      <th>11</th>\n",
       "      <td>1.937559</td>\n",
       "      <td>0.402325</td>\n",
       "      <td>five</td>\n",
       "    </tr>\n",
       "    <tr>\n",
       "      <th>12</th>\n",
       "      <td>1.867262</td>\n",
       "      <td>0.517370</td>\n",
       "      <td>six</td>\n",
       "    </tr>\n",
       "    <tr>\n",
       "      <th>13</th>\n",
       "      <td>1.951517</td>\n",
       "      <td>0.647516</td>\n",
       "      <td>seven</td>\n",
       "    </tr>\n",
       "  </tbody>\n",
       "</table>\n",
       "</div>"
      ],
      "text/plain": [
       "           x         y   name\n",
       "0  -2.441206 -0.789029      1\n",
       "1  -2.171339 -0.361372      2\n",
       "2  -2.090134  0.052437      3\n",
       "3  -1.973849  0.238422      4\n",
       "4  -1.729182  0.223356      5\n",
       "5  -1.841273  0.442475      6\n",
       "6  -1.788175  0.463689      7\n",
       "7   1.758569 -2.287331    one\n",
       "8   2.339540 -0.104127    two\n",
       "9   2.105279  0.198543  three\n",
       "10  2.075431  0.355726   four\n",
       "11  1.937559  0.402325   five\n",
       "12  1.867262  0.517370    six\n",
       "13  1.951517  0.647516  seven"
      ]
     },
     "execution_count": 25,
     "metadata": {},
     "output_type": "execute_result"
    }
   ],
   "source": [
    "nums_plot = pd.DataFrame(pca.transform(df.loc[nums])).rename(columns={0:\"x\", 1:\"y\"})\n",
    "nums_plot[\"name\"] = nums\n",
    "nums_plot\n"
   ]
  },
  {
   "cell_type": "code",
   "execution_count": 26,
   "metadata": {
    "collapsed": false
   },
   "outputs": [
    {
     "data": {
      "image/png": "[encoded data removed]"
     },
     "metadata": {},
     "output_type": "display_data"
    }
   ],
   "source": [
    "%%R -i nums_plot\n",
    "library(ggplot2)\n",
    "\n",
    "ggplot(nums_plot, aes(x, y, label=name)) +\n",
    "  geom_text()"
   ]
  },
  {
   "cell_type": "code",
   "execution_count": 44,
   "metadata": {
    "collapsed": false
   },
   "outputs": [],
   "source": [
    "adjs = [\"clear\", \"clearer\", \"clearest\",\n",
    "        \"dark\", \"darker\", \"darkest\",\n",
    "        \"strong\", \"stronger\", \"strongest\"]\n",
    "pca =PCA(n_components = 2)\n",
    "pca.fit(df.loc[adjs])\n",
    "adjs_plot = pd.DataFrame(pca.transform(df.loc[adjs])).rename(columns={0:\"x\", 1:\"y\"})\n",
    "adjs_plot[\"name\"] = adjs"
   ]
  },
  {
   "cell_type": "code",
   "execution_count": 42,
   "metadata": {
    "collapsed": false
   },
   "outputs": [
    {
     "data": {
      "image/png": "[encoded data removed]"
     },
     "metadata": {},
     "output_type": "display_data"
    }
   ],
   "source": [
    "%%R -i adjs_plot\n",
    "\n",
    "ggplot(adjs_plot, aes(x, y, label=name)) +\n",
    "  geom_text()"
   ]
  },
  {
   "cell_type": "code",
   "execution_count": 45,
   "metadata": {
    "collapsed": true
   },
   "outputs": [],
   "source": [
    "def get_PCA_plot(words):\n",
    "    pca =PCA(n_components = 2)\n",
    "    pca.fit(df.loc[words])\n",
    "    plot = pd.DataFrame(pca.transform(df.loc[words])).rename(columns={0:\"x\", 1:\"y\"})\n",
    "    plot[\"name\"] = words\n",
    "    return plot"
   ]
  },
  {
   "cell_type": "code",
   "execution_count": 51,
   "metadata": {
    "collapsed": true
   },
   "outputs": [],
   "source": [
    "man_woman = get_PCA_plot([\"man\", \"woman\",\n",
    "                          \"uncle\", \"aunt\",\n",
    "                          \"niece\", \"nephew\",\n",
    "                          \"king\", \"queen\",\n",
    "                         \"brother\", \"sister\",\n",
    "                         \"heir\", \"heiress\", \n",
    "                         \"actor\", \"actress\",\n",
    "                         \"waiter\", \"waitress\"])"
   ]
  },
  {
   "cell_type": "code",
   "execution_count": 52,
   "metadata": {
    "collapsed": false
   },
   "outputs": [
    {
     "data": {
      "image/png": "[encoded data removed]"
     },
     "metadata": {},
     "output_type": "display_data"
    }
   ],
   "source": [
    "%%R -i man_woman\n",
    "\n",
    "ggplot(man_woman, aes(x, y, label=name)) +\n",
    "  geom_text()"
   ]
  },
  {
   "cell_type": "code",
   "execution_count": null,
   "metadata": {
    "collapsed": true
   },
   "outputs": [],
   "source": []
  }
 ],
 "metadata": {
  "anaconda-cloud": {},
  "kernelspec": {
   "display_name": "Python [Root]",
   "language": "python",
   "name": "Python [Root]"
  },
  "language_info": {
   "codemirror_mode": {
    "name": "ipython",
    "version": 3
   },
   "file_extension": ".py",
   "mimetype": "text/x-python",
   "name": "python",
   "nbconvert_exporter": "python",
   "pygments_lexer": "ipython3",
   "version": "3.5.2"
  }
 },
 "nbformat": 4,
 "nbformat_minor": 0
}
