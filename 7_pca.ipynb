{
 "cells": [
  {
   "cell_type": "code",
   "execution_count": 1,
   "metadata": {
    "collapsed": true
   },
   "outputs": [],
   "source": [
    "import myutils as my\n",
    "import pandas as pd\n",
    "import seaborn as sns\n",
    "import numpy as np\n",
    "from sklearn.decomposition import PCA\n",
    "%matplotlib inline\n",
    "%load_ext rpy2.ipython"
   ]
  },
  {
   "cell_type": "code",
   "execution_count": 2,
   "metadata": {
    "collapsed": true
   },
   "outputs": [],
   "source": [
    "df = pd.DataFrame(pd.read_csv(\"./data/minimal.50d.3f.csv\")).set_index(\"0\")"
   ]
  },
  {
   "cell_type": "code",
   "execution_count": 3,
   "metadata": {
    "collapsed": true
   },
   "outputs": [],
   "source": [
    "pca = PCA(n_components = 2)"
   ]
  },
  {
   "cell_type": "code",
   "execution_count": 5,
   "metadata": {
    "collapsed": true
   },
   "outputs": [],
   "source": [
    "nums = [\"1\", \"2\", \"3\", \"4\", \"5\", \"6\", \"7\", \"8\", \"9\", \"10\", \"14\", \"-10\", \"0\", \"40\", \"150\", \"10000\", \"zero\", \"one\", \"two\", \"three\", \"five\", \"forty\", \"fourteen\", \"hundred\", \"million\", \"thousand\"]\n"
   ]
  },
  {
   "cell_type": "code",
   "execution_count": 7,
   "metadata": {
    "collapsed": false
   },
   "outputs": [
    {
     "data": {
      "text/plain": [
       "PCA(copy=True, n_components=2, whiten=False)"
      ]
     },
     "execution_count": 7,
     "metadata": {},
     "output_type": "execute_result"
    }
   ],
   "source": [
    "pca.fit(df.loc[nums])"
   ]
  },
  {
   "cell_type": "code",
   "execution_count": 17,
   "metadata": {
    "collapsed": false
   },
   "outputs": [
    {
     "data": {
      "text/html": [
       "<div>\n",
       "<table border=\"1\" class=\"dataframe\">\n",
       "  <thead>\n",
       "    <tr style=\"text-align: right;\">\n",
       "      <th></th>\n",
       "      <th>x</th>\n",
       "      <th>y</th>\n",
       "      <th>name</th>\n",
       "    </tr>\n",
       "  </thead>\n",
       "  <tbody>\n",
       "    <tr>\n",
       "      <th>0</th>\n",
       "      <td>-2.469723</td>\n",
       "      <td>0.003751</td>\n",
       "      <td>1</td>\n",
       "    </tr>\n",
       "    <tr>\n",
       "      <th>1</th>\n",
       "      <td>-2.339144</td>\n",
       "      <td>-0.085222</td>\n",
       "      <td>2</td>\n",
       "    </tr>\n",
       "    <tr>\n",
       "      <th>2</th>\n",
       "      <td>-2.260201</td>\n",
       "      <td>-0.041331</td>\n",
       "      <td>3</td>\n",
       "    </tr>\n",
       "    <tr>\n",
       "      <th>3</th>\n",
       "      <td>-2.058571</td>\n",
       "      <td>-0.065856</td>\n",
       "      <td>4</td>\n",
       "    </tr>\n",
       "    <tr>\n",
       "      <th>4</th>\n",
       "      <td>-1.747150</td>\n",
       "      <td>-0.174103</td>\n",
       "      <td>5</td>\n",
       "    </tr>\n",
       "    <tr>\n",
       "      <th>5</th>\n",
       "      <td>-1.881746</td>\n",
       "      <td>-0.011134</td>\n",
       "      <td>6</td>\n",
       "    </tr>\n",
       "    <tr>\n",
       "      <th>6</th>\n",
       "      <td>-1.862818</td>\n",
       "      <td>-0.007347</td>\n",
       "      <td>7</td>\n",
       "    </tr>\n",
       "    <tr>\n",
       "      <th>7</th>\n",
       "      <td>-1.742239</td>\n",
       "      <td>-0.025729</td>\n",
       "      <td>8</td>\n",
       "    </tr>\n",
       "    <tr>\n",
       "      <th>8</th>\n",
       "      <td>-1.586388</td>\n",
       "      <td>0.077795</td>\n",
       "      <td>9</td>\n",
       "    </tr>\n",
       "    <tr>\n",
       "      <th>9</th>\n",
       "      <td>-0.580895</td>\n",
       "      <td>-0.950115</td>\n",
       "      <td>10</td>\n",
       "    </tr>\n",
       "    <tr>\n",
       "      <th>10</th>\n",
       "      <td>-0.776175</td>\n",
       "      <td>-0.658534</td>\n",
       "      <td>14</td>\n",
       "    </tr>\n",
       "    <tr>\n",
       "      <th>11</th>\n",
       "      <td>-0.160139</td>\n",
       "      <td>4.535469</td>\n",
       "      <td>-10</td>\n",
       "    </tr>\n",
       "    <tr>\n",
       "      <th>12</th>\n",
       "      <td>-3.305874</td>\n",
       "      <td>1.348686</td>\n",
       "      <td>0</td>\n",
       "    </tr>\n",
       "    <tr>\n",
       "      <th>13</th>\n",
       "      <td>0.771908</td>\n",
       "      <td>-0.776996</td>\n",
       "      <td>40</td>\n",
       "    </tr>\n",
       "    <tr>\n",
       "      <th>14</th>\n",
       "      <td>2.154732</td>\n",
       "      <td>-0.444639</td>\n",
       "      <td>150</td>\n",
       "    </tr>\n",
       "    <tr>\n",
       "      <th>15</th>\n",
       "      <td>2.715985</td>\n",
       "      <td>4.102133</td>\n",
       "      <td>10000</td>\n",
       "    </tr>\n",
       "    <tr>\n",
       "      <th>16</th>\n",
       "      <td>0.756104</td>\n",
       "      <td>1.149035</td>\n",
       "      <td>zero</td>\n",
       "    </tr>\n",
       "    <tr>\n",
       "      <th>17</th>\n",
       "      <td>1.149693</td>\n",
       "      <td>-1.313044</td>\n",
       "      <td>one</td>\n",
       "    </tr>\n",
       "    <tr>\n",
       "      <th>18</th>\n",
       "      <td>1.138487</td>\n",
       "      <td>-1.956273</td>\n",
       "      <td>two</td>\n",
       "    </tr>\n",
       "    <tr>\n",
       "      <th>19</th>\n",
       "      <td>1.028409</td>\n",
       "      <td>-1.901225</td>\n",
       "      <td>three</td>\n",
       "    </tr>\n",
       "    <tr>\n",
       "      <th>20</th>\n",
       "      <td>1.026633</td>\n",
       "      <td>-1.824999</td>\n",
       "      <td>five</td>\n",
       "    </tr>\n",
       "    <tr>\n",
       "      <th>21</th>\n",
       "      <td>2.774875</td>\n",
       "      <td>0.532178</td>\n",
       "      <td>forty</td>\n",
       "    </tr>\n",
       "    <tr>\n",
       "      <th>22</th>\n",
       "      <td>2.309206</td>\n",
       "      <td>0.512358</td>\n",
       "      <td>fourteen</td>\n",
       "    </tr>\n",
       "    <tr>\n",
       "      <th>23</th>\n",
       "      <td>3.145506</td>\n",
       "      <td>-0.264836</td>\n",
       "      <td>hundred</td>\n",
       "    </tr>\n",
       "    <tr>\n",
       "      <th>24</th>\n",
       "      <td>0.783106</td>\n",
       "      <td>-1.808086</td>\n",
       "      <td>million</td>\n",
       "    </tr>\n",
       "    <tr>\n",
       "      <th>25</th>\n",
       "      <td>3.016420</td>\n",
       "      <td>0.048065</td>\n",
       "      <td>thousand</td>\n",
       "    </tr>\n",
       "  </tbody>\n",
       "</table>\n",
       "</div>"
      ],
      "text/plain": [
       "           x         y      name\n",
       "0  -2.469723  0.003751         1\n",
       "1  -2.339144 -0.085222         2\n",
       "2  -2.260201 -0.041331         3\n",
       "3  -2.058571 -0.065856         4\n",
       "4  -1.747150 -0.174103         5\n",
       "5  -1.881746 -0.011134         6\n",
       "6  -1.862818 -0.007347         7\n",
       "7  -1.742239 -0.025729         8\n",
       "8  -1.586388  0.077795         9\n",
       "9  -0.580895 -0.950115        10\n",
       "10 -0.776175 -0.658534        14\n",
       "11 -0.160139  4.535469       -10\n",
       "12 -3.305874  1.348686         0\n",
       "13  0.771908 -0.776996        40\n",
       "14  2.154732 -0.444639       150\n",
       "15  2.715985  4.102133     10000\n",
       "16  0.756104  1.149035      zero\n",
       "17  1.149693 -1.313044       one\n",
       "18  1.138487 -1.956273       two\n",
       "19  1.028409 -1.901225     three\n",
       "20  1.026633 -1.824999      five\n",
       "21  2.774875  0.532178     forty\n",
       "22  2.309206  0.512358  fourteen\n",
       "23  3.145506 -0.264836   hundred\n",
       "24  0.783106 -1.808086   million\n",
       "25  3.016420  0.048065  thousand"
      ]
     },
     "execution_count": 17,
     "metadata": {},
     "output_type": "execute_result"
    }
   ],
   "source": [
    "nums_plot = pd.DataFrame(pca.transform(df.loc[nums])).rename(columns={0:\"x\", 1:\"y\"})\n",
    "nums_plot[\"name\"] = nums\n",
    "nums_plot\n"
   ]
  },
  {
   "cell_type": "code",
   "execution_count": 18,
   "metadata": {
    "collapsed": false
   },
   "outputs": [
    {
     "data": {
      "image/png": "[encoded data removed]"
     },
     "metadata": {},
     "output_type": "display_data"
    }
   ],
   "source": [
    "%%R -i nums_plot\n",
    "library(ggplot2)\n",
    "\n",
    "ggplot(nums_plot, aes(x, y, label=name)) +\n",
    "  geom_text()"
   ]
  },
  {
   "cell_type": "code",
   "execution_count": null,
   "metadata": {
    "collapsed": true
   },
   "outputs": [],
   "source": []
  }
 ],
 "metadata": {
  "anaconda-cloud": {},
  "kernelspec": {
   "display_name": "Python [Root]",
   "language": "python",
   "name": "Python [Root]"
  },
  "language_info": {
   "codemirror_mode": {
    "name": "ipython",
    "version": 3
   },
   "file_extension": ".py",
   "mimetype": "text/x-python",
   "name": "python",
   "nbconvert_exporter": "python",
   "pygments_lexer": "ipython3",
   "version": "3.5.2"
  }
 },
 "nbformat": 4,
 "nbformat_minor": 0
}
