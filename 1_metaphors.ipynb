{
 "cells": [
  {
   "cell_type": "code",
   "execution_count": 4,
   "metadata": {
    "collapsed": true
   },
   "outputs": [],
   "source": [
    "import pandas as pd\n",
    "import seaborn as sns\n",
    "import numpy as np\n",
    "%matplotlib inline"
   ]
  },
  {
   "cell_type": "code",
   "execution_count": 5,
   "metadata": {
    "collapsed": false
   },
   "outputs": [],
   "source": [
    "df = pd.read_table(\"./data/glove.6B.100d.txt\", delimiter=\" \", header=None, index_col=0, quoting=3)"
   ]
  },
  {
   "cell_type": "code",
   "execution_count": 6,
   "metadata": {
    "collapsed": true
   },
   "outputs": [],
   "source": [
    "words = set(df.index)"
   ]
  },
  {
   "cell_type": "code",
   "execution_count": 7,
   "metadata": {
    "collapsed": false
   },
   "outputs": [
    {
     "data": {
      "text/plain": [
       "True"
      ]
     },
     "execution_count": 7,
     "metadata": {},
     "output_type": "execute_result"
    }
   ],
   "source": [
    "\"down-to-earth\" in words"
   ]
  },
  {
   "cell_type": "code",
   "execution_count": 63,
   "metadata": {
    "collapsed": false
   },
   "outputs": [],
   "source": [
    "whatever = [\"happy\", \"sad\", \n",
    "            \"rich\", \"poor\", \n",
    "            \"important\", \"unimportant\",\n",
    "            \"good\", \"bad\", \"evil\", \n",
    "            \"healthy\", \"ill\", \n",
    "            \"high\", \"low\", \"up\", \"down\", \n",
    "            \"conscious\", \"unconscious\",\n",
    "#            \"rational\", \"emotional\",\n",
    "            \"more\", \"less\",\n",
    " #          \"idealistic\", \"down-to-earth\", \"practical\",\n",
    "           \"unknown\", \"known\",\n",
    "           \"finished\", \"incomplete\", \"complete\",\n",
    "           \"positive\", \"negative\", \n",
    "           \"big\", \"small\", \"little\", \"enormous\",\n",
    "           \"beginning\", \"end\",\n",
    "           \"future\", \"past\",\n",
    "           \"spirit\", \"body\",\n",
    " #          \"sky\", \"ground\",\n",
    "#           \"heavenly\", \"hell\", \"salvation\",\n",
    "           \"virtuous\", \"sinful\", \n",
    "#           \"central\", \"peripheral\",\n",
    "#           \"urban\", \"rural\",\n",
    "           \"active\", \"passive\",\n",
    "           \"hot\", \"cold\", \n",
    "           \"loud\", \"quiet\",\n",
    " #          \"expensive\", \"cheap\", \"costly\",\n",
    "            \"normal\", \"eccentric\", \"strange\",\n",
    "            \"front\", \"back\",\n",
    "            \"on\", \"off\"\n",
    "           ]"
   ]
  },
  {
   "cell_type": "code",
   "execution_count": 64,
   "metadata": {
    "collapsed": false
   },
   "outputs": [
    {
     "data": {
      "text/plain": [
       "0\n",
       "happy          2.210839\n",
       "sad            0.269184\n",
       "rich           3.374602\n",
       "poor          -0.317939\n",
       "important      3.172451\n",
       "unimportant   -0.633256\n",
       "good           2.917126\n",
       "bad           -0.051883\n",
       "evil          -0.618274\n",
       "healthy        3.173967\n",
       "ill           -0.243862\n",
       "high           0.743250\n",
       "low           -0.604009\n",
       "up             2.651839\n",
       "down          -3.158675\n",
       "conscious      1.179391\n",
       "unconscious   -2.804720\n",
       "more           4.959796\n",
       "less           3.148310\n",
       "unknown       -0.736454\n",
       "known          2.068978\n",
       "finished       0.652012\n",
       "incomplete    -0.689389\n",
       "complete       3.036134\n",
       "positive       2.427445\n",
       "negative       1.124187\n",
       "big            2.427110\n",
       "small          2.593633\n",
       "little         2.521163\n",
       "enormous       2.970337\n",
       "beginning      1.532199\n",
       "end            0.706158\n",
       "future         2.877336\n",
       "past           0.354227\n",
       "spirit         2.181550\n",
       "body           0.370373\n",
       "virtuous       1.299056\n",
       "sinful        -0.988711\n",
       "active         3.013572\n",
       "passive        0.365234\n",
       "hot            1.574116\n",
       "cold          -0.229834\n",
       "loud           0.148977\n",
       "quiet         -0.276712\n",
       "normal         0.824275\n",
       "eccentric      0.372027\n",
       "strange        1.196591\n",
       "front         -0.265671\n",
       "back           0.142592\n",
       "on             0.523628\n",
       "off           -0.386836\n",
       "dtype: float64"
      ]
     },
     "execution_count": 64,
     "metadata": {},
     "output_type": "execute_result"
    }
   ],
   "source": [
    "df.loc[whatever].dot(df.loc[\"up\"] - df.loc[\"down\"])#.sort_values()"
   ]
  },
  {
   "cell_type": "code",
   "execution_count": 32,
   "metadata": {
    "collapsed": false
   },
   "outputs": [
    {
     "name": "stderr",
     "output_type": "stream",
     "text": [
      "/home/julia/anaconda3/lib/python3.5/site-packages/pandas/core/generic.py:4256: RuntimeWarning: unorderable types: str() > float(), sort order is undefined for incomparable objects\n",
      "  return_indexers=True)\n"
     ]
    }
   ],
   "source": [
    "lens = (df**2).sum(axis=1).sort_values()\n",
    "dfn = df.div(np.sqrt(lens), axis='index')"
   ]
  },
  {
   "cell_type": "code",
   "execution_count": 65,
   "metadata": {
    "collapsed": false
   },
   "outputs": [
    {
     "data": {
      "text/plain": [
       "0\n",
       "happy          0.074644\n",
       "sad            0.010002\n",
       "rich           0.103850\n",
       "poor          -0.005705\n",
       "important      0.100136\n",
       "unimportant   -0.024927\n",
       "good           0.090748\n",
       "bad            0.002651\n",
       "evil          -0.016135\n",
       "healthy        0.099547\n",
       "ill           -0.005096\n",
       "high           0.025934\n",
       "low           -0.013088\n",
       "up             0.084013\n",
       "down          -0.084013\n",
       "conscious      0.043475\n",
       "unconscious   -0.088271\n",
       "more           0.139915\n",
       "less           0.099827\n",
       "unknown       -0.022282\n",
       "known          0.070686\n",
       "finished       0.023485\n",
       "incomplete    -0.021430\n",
       "complete       0.101670\n",
       "positive       0.072995\n",
       "negative       0.035278\n",
       "big            0.078409\n",
       "small          0.081515\n",
       "little         0.082933\n",
       "enormous       0.102733\n",
       "beginning      0.057090\n",
       "end            0.027565\n",
       "future         0.097229\n",
       "past           0.016694\n",
       "spirit         0.071328\n",
       "body           0.014393\n",
       "virtuous       0.050086\n",
       "sinful        -0.036823\n",
       "active         0.102046\n",
       "passive        0.014247\n",
       "hot            0.049474\n",
       "cold          -0.003288\n",
       "loud           0.006811\n",
       "quiet         -0.005651\n",
       "normal         0.030485\n",
       "eccentric      0.015213\n",
       "strange        0.042989\n",
       "front         -0.003518\n",
       "back           0.010402\n",
       "on             0.019871\n",
       "off           -0.004989\n",
       "dtype: float64"
      ]
     },
     "execution_count": 65,
     "metadata": {},
     "output_type": "execute_result"
    }
   ],
   "source": [
    "dfn.loc[whatever].dot(dfn.loc[\"up\"] - dfn.loc[\"down\"])#.sort_values()"
   ]
  },
  {
   "cell_type": "code",
   "execution_count": 66,
   "metadata": {
    "collapsed": false
   },
   "outputs": [],
   "source": [
    "height = df.loc[\"up\"] - df.loc[\"down\"]\n",
    "second = df.loc[\"good\"] - df.loc[\"bad\"]\n",
    "proj = pd.DataFrame([height, second], index=[\"height\", \"second\"]).transpose()"
   ]
  },
  {
   "cell_type": "code",
   "execution_count": 67,
   "metadata": {
    "collapsed": true
   },
   "outputs": [],
   "source": [
    "df_plot = df.loc[whatever].dot(proj)\n",
    "df_plot[\"name\"] = df_plot.index"
   ]
  },
  {
   "cell_type": "code",
   "execution_count": 46,
   "metadata": {
    "collapsed": false
   },
   "outputs": [
    {
     "name": "stdout",
     "output_type": "stream",
     "text": [
      "The rpy2.ipython extension is already loaded. To reload it, use:\n",
      "  %reload_ext rpy2.ipython\n"
     ]
    }
   ],
   "source": [
    "%load_ext rpy2.ipython"
   ]
  },
  {
   "cell_type": "code",
   "execution_count": 68,
   "metadata": {
    "collapsed": false
   },
   "outputs": [
    {
     "data": {
      "image/png": "[encoded data removed]"
     },
     "metadata": {},
     "output_type": "display_data"
    }
   ],
   "source": [
    "%%R -i df_plot\n",
    "library(ggplot2)\n",
    "\n",
    "ggplot(df_plot, aes(height, second, label=name)) +\n",
    "  geom_text()"
   ]
  },
  {
   "cell_type": "code",
   "execution_count": null,
   "metadata": {
    "collapsed": true
   },
   "outputs": [],
   "source": []
  }
 ],
 "metadata": {
  "anaconda-cloud": {},
  "kernelspec": {
   "display_name": "Python [Root]",
   "language": "python",
   "name": "Python [Root]"
  },
  "language_info": {
   "codemirror_mode": {
    "name": "ipython",
    "version": 3
   },
   "file_extension": ".py",
   "mimetype": "text/x-python",
   "name": "python",
   "nbconvert_exporter": "python",
   "pygments_lexer": "ipython3",
   "version": "3.5.2"
  }
 },
 "nbformat": 4,
 "nbformat_minor": 0
}
