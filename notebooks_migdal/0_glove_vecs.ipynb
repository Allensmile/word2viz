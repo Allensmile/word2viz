{
 "cells": [
  {
   "cell_type": "code",
   "execution_count": 1,
   "metadata": {
    "collapsed": false
   },
   "outputs": [],
   "source": [
    "import pandas as pd\n",
    "import numpy as np\n",
    "import seaborn as sns\n",
    "%matplotlib inline"
   ]
  },
  {
   "cell_type": "code",
   "execution_count": 2,
   "metadata": {
    "collapsed": false
   },
   "outputs": [],
   "source": [
    "df = pd.read_table(\"/Volumes/Macintosh HD/Data/glove.6B/glove.6B.50d.txt\", delimiter=\" \", header=None, index_col=0, quoting=3)"
   ]
  },
  {
   "cell_type": "code",
   "execution_count": 3,
   "metadata": {
    "collapsed": false
   },
   "outputs": [
    {
     "data": {
      "text/html": [
       "<div>\n",
       "<table border=\"1\" class=\"dataframe\">\n",
       "  <thead>\n",
       "    <tr style=\"text-align: right;\">\n",
       "      <th></th>\n",
       "      <th>1</th>\n",
       "      <th>2</th>\n",
       "      <th>3</th>\n",
       "      <th>4</th>\n",
       "      <th>5</th>\n",
       "      <th>6</th>\n",
       "      <th>7</th>\n",
       "      <th>8</th>\n",
       "      <th>9</th>\n",
       "      <th>10</th>\n",
       "      <th>...</th>\n",
       "      <th>41</th>\n",
       "      <th>42</th>\n",
       "      <th>43</th>\n",
       "      <th>44</th>\n",
       "      <th>45</th>\n",
       "      <th>46</th>\n",
       "      <th>47</th>\n",
       "      <th>48</th>\n",
       "      <th>49</th>\n",
       "      <th>50</th>\n",
       "    </tr>\n",
       "    <tr>\n",
       "      <th>0</th>\n",
       "      <th></th>\n",
       "      <th></th>\n",
       "      <th></th>\n",
       "      <th></th>\n",
       "      <th></th>\n",
       "      <th></th>\n",
       "      <th></th>\n",
       "      <th></th>\n",
       "      <th></th>\n",
       "      <th></th>\n",
       "      <th></th>\n",
       "      <th></th>\n",
       "      <th></th>\n",
       "      <th></th>\n",
       "      <th></th>\n",
       "      <th></th>\n",
       "      <th></th>\n",
       "      <th></th>\n",
       "      <th></th>\n",
       "      <th></th>\n",
       "      <th></th>\n",
       "    </tr>\n",
       "  </thead>\n",
       "  <tbody>\n",
       "    <tr>\n",
       "      <th>the</th>\n",
       "      <td>0.418000</td>\n",
       "      <td>0.249680</td>\n",
       "      <td>-0.41242</td>\n",
       "      <td>0.12170</td>\n",
       "      <td>0.34527</td>\n",
       "      <td>-0.044457</td>\n",
       "      <td>-0.49688</td>\n",
       "      <td>-0.17862</td>\n",
       "      <td>-0.00066</td>\n",
       "      <td>-0.656600</td>\n",
       "      <td>...</td>\n",
       "      <td>-0.298710</td>\n",
       "      <td>-0.157490</td>\n",
       "      <td>-0.347580</td>\n",
       "      <td>-0.045637</td>\n",
       "      <td>-0.44251</td>\n",
       "      <td>0.187850</td>\n",
       "      <td>0.002785</td>\n",
       "      <td>-0.184110</td>\n",
       "      <td>-0.115140</td>\n",
       "      <td>-0.78581</td>\n",
       "    </tr>\n",
       "    <tr>\n",
       "      <th>,</th>\n",
       "      <td>0.013441</td>\n",
       "      <td>0.236820</td>\n",
       "      <td>-0.16899</td>\n",
       "      <td>0.40951</td>\n",
       "      <td>0.63812</td>\n",
       "      <td>0.477090</td>\n",
       "      <td>-0.42852</td>\n",
       "      <td>-0.55641</td>\n",
       "      <td>-0.36400</td>\n",
       "      <td>-0.239380</td>\n",
       "      <td>...</td>\n",
       "      <td>-0.080262</td>\n",
       "      <td>0.630030</td>\n",
       "      <td>0.321110</td>\n",
       "      <td>-0.467650</td>\n",
       "      <td>0.22786</td>\n",
       "      <td>0.360340</td>\n",
       "      <td>-0.378180</td>\n",
       "      <td>-0.566570</td>\n",
       "      <td>0.044691</td>\n",
       "      <td>0.30392</td>\n",
       "    </tr>\n",
       "    <tr>\n",
       "      <th>.</th>\n",
       "      <td>0.151640</td>\n",
       "      <td>0.301770</td>\n",
       "      <td>-0.16763</td>\n",
       "      <td>0.17684</td>\n",
       "      <td>0.31719</td>\n",
       "      <td>0.339730</td>\n",
       "      <td>-0.43478</td>\n",
       "      <td>-0.31086</td>\n",
       "      <td>-0.44999</td>\n",
       "      <td>-0.294860</td>\n",
       "      <td>...</td>\n",
       "      <td>-0.000064</td>\n",
       "      <td>0.068987</td>\n",
       "      <td>0.087939</td>\n",
       "      <td>-0.102850</td>\n",
       "      <td>-0.13931</td>\n",
       "      <td>0.223140</td>\n",
       "      <td>-0.080803</td>\n",
       "      <td>-0.356520</td>\n",
       "      <td>0.016413</td>\n",
       "      <td>0.10216</td>\n",
       "    </tr>\n",
       "    <tr>\n",
       "      <th>of</th>\n",
       "      <td>0.708530</td>\n",
       "      <td>0.570880</td>\n",
       "      <td>-0.47160</td>\n",
       "      <td>0.18048</td>\n",
       "      <td>0.54449</td>\n",
       "      <td>0.726030</td>\n",
       "      <td>0.18157</td>\n",
       "      <td>-0.52393</td>\n",
       "      <td>0.10381</td>\n",
       "      <td>-0.175660</td>\n",
       "      <td>...</td>\n",
       "      <td>-0.347270</td>\n",
       "      <td>0.284830</td>\n",
       "      <td>0.075693</td>\n",
       "      <td>-0.062178</td>\n",
       "      <td>-0.38988</td>\n",
       "      <td>0.229020</td>\n",
       "      <td>-0.216170</td>\n",
       "      <td>-0.225620</td>\n",
       "      <td>-0.093918</td>\n",
       "      <td>-0.80375</td>\n",
       "    </tr>\n",
       "    <tr>\n",
       "      <th>to</th>\n",
       "      <td>0.680470</td>\n",
       "      <td>-0.039263</td>\n",
       "      <td>0.30186</td>\n",
       "      <td>-0.17792</td>\n",
       "      <td>0.42962</td>\n",
       "      <td>0.032246</td>\n",
       "      <td>-0.41376</td>\n",
       "      <td>0.13228</td>\n",
       "      <td>-0.29847</td>\n",
       "      <td>-0.085253</td>\n",
       "      <td>...</td>\n",
       "      <td>-0.094375</td>\n",
       "      <td>0.018324</td>\n",
       "      <td>0.210480</td>\n",
       "      <td>-0.030880</td>\n",
       "      <td>-0.19722</td>\n",
       "      <td>0.082279</td>\n",
       "      <td>-0.094340</td>\n",
       "      <td>-0.073297</td>\n",
       "      <td>-0.064699</td>\n",
       "      <td>-0.26044</td>\n",
       "    </tr>\n",
       "  </tbody>\n",
       "</table>\n",
       "<p>5 rows × 50 columns</p>\n",
       "</div>"
      ],
      "text/plain": [
       "           1         2        3        4        5         6        7   \\\n",
       "0                                                                       \n",
       "the  0.418000  0.249680 -0.41242  0.12170  0.34527 -0.044457 -0.49688   \n",
       ",    0.013441  0.236820 -0.16899  0.40951  0.63812  0.477090 -0.42852   \n",
       ".    0.151640  0.301770 -0.16763  0.17684  0.31719  0.339730 -0.43478   \n",
       "of   0.708530  0.570880 -0.47160  0.18048  0.54449  0.726030  0.18157   \n",
       "to   0.680470 -0.039263  0.30186 -0.17792  0.42962  0.032246 -0.41376   \n",
       "\n",
       "          8        9         10   ...           41        42        43  \\\n",
       "0                                 ...                                    \n",
       "the -0.17862 -0.00066 -0.656600   ...    -0.298710 -0.157490 -0.347580   \n",
       ",   -0.55641 -0.36400 -0.239380   ...    -0.080262  0.630030  0.321110   \n",
       ".   -0.31086 -0.44999 -0.294860   ...    -0.000064  0.068987  0.087939   \n",
       "of  -0.52393  0.10381 -0.175660   ...    -0.347270  0.284830  0.075693   \n",
       "to   0.13228 -0.29847 -0.085253   ...    -0.094375  0.018324  0.210480   \n",
       "\n",
       "           44       45        46        47        48        49       50  \n",
       "0                                                                        \n",
       "the -0.045637 -0.44251  0.187850  0.002785 -0.184110 -0.115140 -0.78581  \n",
       ",   -0.467650  0.22786  0.360340 -0.378180 -0.566570  0.044691  0.30392  \n",
       ".   -0.102850 -0.13931  0.223140 -0.080803 -0.356520  0.016413  0.10216  \n",
       "of  -0.062178 -0.38988  0.229020 -0.216170 -0.225620 -0.093918 -0.80375  \n",
       "to  -0.030880 -0.19722  0.082279 -0.094340 -0.073297 -0.064699 -0.26044  \n",
       "\n",
       "[5 rows x 50 columns]"
      ]
     },
     "execution_count": 3,
     "metadata": {},
     "output_type": "execute_result"
    }
   ],
   "source": [
    "df.head()"
   ]
  },
  {
   "cell_type": "code",
   "execution_count": 4,
   "metadata": {
    "collapsed": false
   },
   "outputs": [],
   "source": [
    "words = set(df.index)"
   ]
  },
  {
   "cell_type": "code",
   "execution_count": 5,
   "metadata": {
    "collapsed": false
   },
   "outputs": [
    {
     "data": {
      "text/plain": [
       "True"
      ]
     },
     "execution_count": 5,
     "metadata": {},
     "output_type": "execute_result"
    }
   ],
   "source": [
    "\"daniel\" in words"
   ]
  },
  {
   "cell_type": "code",
   "execution_count": 6,
   "metadata": {
    "collapsed": false
   },
   "outputs": [
    {
     "data": {
      "text/plain": [
       "<seaborn.matrix.ClusterGrid at 0x11e349e80>"
      ]
     },
     "execution_count": 6,
     "metadata": {},
     "output_type": "execute_result"
    },
    {
     "data": {
      "image/png": "[encoded data removed]",
      "text/plain": [
       "<matplotlib.figure.Figure at 0x11e349828>"
      ]
     },
     "metadata": {},
     "output_type": "display_data"
    }
   ],
   "source": [
    "sns.clustermap(df.loc[[\"daniel\", \"adrian\", \"john\", \"kate\", \"julia\", \"anne\"]].transpose().corr())"
   ]
  },
  {
   "cell_type": "code",
   "execution_count": 7,
   "metadata": {
    "collapsed": false
   },
   "outputs": [
    {
     "data": {
      "text/plain": [
       "<seaborn.matrix.ClusterGrid at 0x11e3496a0>"
      ]
     },
     "execution_count": 7,
     "metadata": {},
     "output_type": "execute_result"
    },
    {
     "data": {
      "image/png": "[encoded data removed]",
      "text/plain": [
       "<matplotlib.figure.Figure at 0x11e349ac8>"
      ]
     },
     "metadata": {},
     "output_type": "display_data"
    }
   ],
   "source": [
    "sns.clustermap(df.loc[[\"hotel\", \"motel\", \"guesthouse\", \"bar\", \"pub\", \"party\"]].transpose().corr())"
   ]
  },
  {
   "cell_type": "code",
   "execution_count": 8,
   "metadata": {
    "collapsed": false
   },
   "outputs": [
    {
     "data": {
      "text/plain": [
       "-6.5869068840070009"
      ]
     },
     "execution_count": 8,
     "metadata": {},
     "output_type": "execute_result"
    }
   ],
   "source": [
    "np.dot(df.loc[\"kate\"],  df.loc[\"he\"] - df.loc[\"she\"])"
   ]
  },
  {
   "cell_type": "code",
   "execution_count": 9,
   "metadata": {
    "collapsed": false
   },
   "outputs": [
    {
     "data": {
      "text/plain": [
       "2.5265921501259196"
      ]
     },
     "execution_count": 9,
     "metadata": {},
     "output_type": "execute_result"
    }
   ],
   "source": [
    "np.dot(df.loc[\"john\"],  df.loc[\"he\"] - df.loc[\"she\"])"
   ]
  },
  {
   "cell_type": "code",
   "execution_count": 10,
   "metadata": {
    "collapsed": false
   },
   "outputs": [
    {
     "data": {
      "text/plain": [
       "True"
      ]
     },
     "execution_count": 10,
     "metadata": {},
     "output_type": "execute_result"
    }
   ],
   "source": [
    "names = [\"kate\", \"catherine\", \"john\", \"mark\", \"peter\", \"anna\", \"julia\", \"jacob\", \"jake\",\n",
    "         \"richard\", \"ted\", \"theodore\", \"sue\", \"susanne\", \"suzanne\", \"susan\", \"mary\",\n",
    "         \"leo\", \"leonard\", \"alexander\", \"alexandra\", \"alex\", \"sasha\"]\n",
    "all([name in words for name in names])"
   ]
  },
  {
   "cell_type": "code",
   "execution_count": 11,
   "metadata": {
    "collapsed": true
   },
   "outputs": [],
   "source": [
    "gender = df.loc[\"he\"] - df.loc[\"she\"]"
   ]
  },
  {
   "cell_type": "code",
   "execution_count": 12,
   "metadata": {
    "collapsed": false
   },
   "outputs": [
    {
     "data": {
      "text/plain": [
       "0\n",
       "anna        -7.344199\n",
       "kate        -6.586907\n",
       "susan       -5.699029\n",
       "julia       -5.126295\n",
       "mary        -4.743954\n",
       "sasha       -4.371697\n",
       "catherine   -4.177077\n",
       "alexandra   -4.109371\n",
       "suzanne     -3.833959\n",
       "sue         -2.976699\n",
       "susanne     -2.352316\n",
       "jake        -1.061410\n",
       "alex        -0.501445\n",
       "ted         -0.465928\n",
       "leonard      0.742049\n",
       "peter        0.865114\n",
       "jacob        0.987405\n",
       "richard      1.340372\n",
       "leo          2.063482\n",
       "mark         2.316420\n",
       "alexander    2.471270\n",
       "theodore     2.525033\n",
       "john         2.526592\n",
       "dtype: float64"
      ]
     },
     "execution_count": 12,
     "metadata": {},
     "output_type": "execute_result"
    }
   ],
   "source": [
    "df.loc[names].dot(gender).sort_values()"
   ]
  },
  {
   "cell_type": "code",
   "execution_count": 13,
   "metadata": {
    "collapsed": true
   },
   "outputs": [],
   "source": [
    "diminutive = df.loc[\"kate\"] - df.loc[\"catherine\"]"
   ]
  },
  {
   "cell_type": "code",
   "execution_count": 14,
   "metadata": {
    "collapsed": false
   },
   "outputs": [],
   "source": [
    "proj = pd.DataFrame([gender, diminutive], index=[\"gender\", \"diminutive\"]).transpose()"
   ]
  },
  {
   "cell_type": "code",
   "execution_count": 15,
   "metadata": {
    "collapsed": false
   },
   "outputs": [
    {
     "data": {
      "text/html": [
       "<div>\n",
       "<table border=\"1\" class=\"dataframe\">\n",
       "  <thead>\n",
       "    <tr style=\"text-align: right;\">\n",
       "      <th></th>\n",
       "      <th>gender</th>\n",
       "      <th>diminutive</th>\n",
       "    </tr>\n",
       "    <tr>\n",
       "      <th>0</th>\n",
       "      <th></th>\n",
       "      <th></th>\n",
       "    </tr>\n",
       "  </thead>\n",
       "  <tbody>\n",
       "    <tr>\n",
       "      <th>catherine</th>\n",
       "      <td>-4.177077</td>\n",
       "      <td>-7.004076</td>\n",
       "    </tr>\n",
       "    <tr>\n",
       "      <th>alexander</th>\n",
       "      <td>2.471270</td>\n",
       "      <td>-4.733500</td>\n",
       "    </tr>\n",
       "    <tr>\n",
       "      <th>alexandra</th>\n",
       "      <td>-4.109371</td>\n",
       "      <td>-4.541007</td>\n",
       "    </tr>\n",
       "    <tr>\n",
       "      <th>theodore</th>\n",
       "      <td>2.525033</td>\n",
       "      <td>-3.765326</td>\n",
       "    </tr>\n",
       "    <tr>\n",
       "      <th>leo</th>\n",
       "      <td>2.063482</td>\n",
       "      <td>-3.650150</td>\n",
       "    </tr>\n",
       "    <tr>\n",
       "      <th>mary</th>\n",
       "      <td>-4.743954</td>\n",
       "      <td>-3.394519</td>\n",
       "    </tr>\n",
       "    <tr>\n",
       "      <th>peter</th>\n",
       "      <td>0.865114</td>\n",
       "      <td>-2.686588</td>\n",
       "    </tr>\n",
       "    <tr>\n",
       "      <th>suzanne</th>\n",
       "      <td>-3.833959</td>\n",
       "      <td>-2.250602</td>\n",
       "    </tr>\n",
       "    <tr>\n",
       "      <th>john</th>\n",
       "      <td>2.526592</td>\n",
       "      <td>-2.064688</td>\n",
       "    </tr>\n",
       "    <tr>\n",
       "      <th>anna</th>\n",
       "      <td>-7.344199</td>\n",
       "      <td>-1.825938</td>\n",
       "    </tr>\n",
       "    <tr>\n",
       "      <th>richard</th>\n",
       "      <td>1.340372</td>\n",
       "      <td>-1.676241</td>\n",
       "    </tr>\n",
       "    <tr>\n",
       "      <th>julia</th>\n",
       "      <td>-5.126295</td>\n",
       "      <td>-1.515624</td>\n",
       "    </tr>\n",
       "    <tr>\n",
       "      <th>leonard</th>\n",
       "      <td>0.742049</td>\n",
       "      <td>-1.032691</td>\n",
       "    </tr>\n",
       "    <tr>\n",
       "      <th>jacob</th>\n",
       "      <td>0.987405</td>\n",
       "      <td>-1.013971</td>\n",
       "    </tr>\n",
       "    <tr>\n",
       "      <th>mark</th>\n",
       "      <td>2.316420</td>\n",
       "      <td>-0.163802</td>\n",
       "    </tr>\n",
       "    <tr>\n",
       "      <th>susan</th>\n",
       "      <td>-5.699029</td>\n",
       "      <td>0.546010</td>\n",
       "    </tr>\n",
       "    <tr>\n",
       "      <th>alex</th>\n",
       "      <td>-0.501445</td>\n",
       "      <td>0.580175</td>\n",
       "    </tr>\n",
       "    <tr>\n",
       "      <th>susanne</th>\n",
       "      <td>-2.352316</td>\n",
       "      <td>1.514908</td>\n",
       "    </tr>\n",
       "    <tr>\n",
       "      <th>ted</th>\n",
       "      <td>-0.465928</td>\n",
       "      <td>1.903800</td>\n",
       "    </tr>\n",
       "    <tr>\n",
       "      <th>sue</th>\n",
       "      <td>-2.976699</td>\n",
       "      <td>2.971525</td>\n",
       "    </tr>\n",
       "    <tr>\n",
       "      <th>sasha</th>\n",
       "      <td>-4.371697</td>\n",
       "      <td>4.548008</td>\n",
       "    </tr>\n",
       "    <tr>\n",
       "      <th>jake</th>\n",
       "      <td>-1.061410</td>\n",
       "      <td>6.811162</td>\n",
       "    </tr>\n",
       "    <tr>\n",
       "      <th>kate</th>\n",
       "      <td>-6.586907</td>\n",
       "      <td>7.252618</td>\n",
       "    </tr>\n",
       "  </tbody>\n",
       "</table>\n",
       "</div>"
      ],
      "text/plain": [
       "             gender  diminutive\n",
       "0                              \n",
       "catherine -4.177077   -7.004076\n",
       "alexander  2.471270   -4.733500\n",
       "alexandra -4.109371   -4.541007\n",
       "theodore   2.525033   -3.765326\n",
       "leo        2.063482   -3.650150\n",
       "mary      -4.743954   -3.394519\n",
       "peter      0.865114   -2.686588\n",
       "suzanne   -3.833959   -2.250602\n",
       "john       2.526592   -2.064688\n",
       "anna      -7.344199   -1.825938\n",
       "richard    1.340372   -1.676241\n",
       "julia     -5.126295   -1.515624\n",
       "leonard    0.742049   -1.032691\n",
       "jacob      0.987405   -1.013971\n",
       "mark       2.316420   -0.163802\n",
       "susan     -5.699029    0.546010\n",
       "alex      -0.501445    0.580175\n",
       "susanne   -2.352316    1.514908\n",
       "ted       -0.465928    1.903800\n",
       "sue       -2.976699    2.971525\n",
       "sasha     -4.371697    4.548008\n",
       "jake      -1.061410    6.811162\n",
       "kate      -6.586907    7.252618"
      ]
     },
     "execution_count": 15,
     "metadata": {},
     "output_type": "execute_result"
    }
   ],
   "source": [
    "df_plot = df.loc[names].dot(proj).sort_values(by=\"diminutive\")\n",
    "df_plot"
   ]
  },
  {
   "cell_type": "code",
   "execution_count": 16,
   "metadata": {
    "collapsed": true
   },
   "outputs": [],
   "source": [
    "df_plot[\"name\"] = df_plot.index"
   ]
  },
  {
   "cell_type": "code",
   "execution_count": 17,
   "metadata": {
    "collapsed": true
   },
   "outputs": [],
   "source": [
    "%load_ext rpy2.ipython"
   ]
  },
  {
   "cell_type": "code",
   "execution_count": 18,
   "metadata": {
    "collapsed": false
   },
   "outputs": [
    {
     "data": {
      "image/png": "[encoded data removed]"
     },
     "metadata": {},
     "output_type": "display_data"
    }
   ],
   "source": [
    "%%R -i df_plot\n",
    "library(ggplot2)\n",
    "\n",
    "ggplot(df_plot, aes(gender, diminutive, label=name)) +\n",
    "  geom_text()"
   ]
  },
  {
   "cell_type": "code",
   "execution_count": 19,
   "metadata": {
    "collapsed": true
   },
   "outputs": [],
   "source": [
    "# długości"
   ]
  },
  {
   "cell_type": "code",
   "execution_count": 20,
   "metadata": {
    "collapsed": false
   },
   "outputs": [
    {
     "data": {
      "text/plain": [
       "11.356260465544525"
      ]
     },
     "execution_count": 20,
     "metadata": {},
     "output_type": "execute_result"
    }
   ],
   "source": [
    "np.log10(df.dot(df.loc[\"the\"]).apply(np.exp).sum())"
   ]
  },
  {
   "cell_type": "code",
   "execution_count": 21,
   "metadata": {
    "collapsed": false
   },
   "outputs": [
    {
     "data": {
      "text/plain": [
       "24.679304155109861"
      ]
     },
     "execution_count": 21,
     "metadata": {},
     "output_type": "execute_result"
    }
   ],
   "source": [
    "(df.loc[\"the\"]**2).sum()"
   ]
  },
  {
   "cell_type": "code",
   "execution_count": 22,
   "metadata": {
    "collapsed": false
   },
   "outputs": [
    {
     "data": {
      "text/plain": [
       "14.188905636459221"
      ]
     },
     "execution_count": 22,
     "metadata": {},
     "output_type": "execute_result"
    }
   ],
   "source": [
    "np.log10(df.dot(df.loc[\"she\"]).apply(np.exp).sum())"
   ]
  },
  {
   "cell_type": "code",
   "execution_count": 23,
   "metadata": {
    "collapsed": false
   },
   "outputs": [
    {
     "data": {
      "text/plain": [
       "31.86334793456189"
      ]
     },
     "execution_count": 23,
     "metadata": {},
     "output_type": "execute_result"
    }
   ],
   "source": [
    "(df.loc[\"she\"]**2).sum()"
   ]
  },
  {
   "cell_type": "code",
   "execution_count": 24,
   "metadata": {
    "collapsed": false
   },
   "outputs": [
    {
     "data": {
      "text/plain": [
       "7.997831890084389"
      ]
     },
     "execution_count": 24,
     "metadata": {},
     "output_type": "execute_result"
    }
   ],
   "source": [
    "np.log10(df.dot(df.loc[\"jacob\"]).apply(np.exp).sum())"
   ]
  },
  {
   "cell_type": "code",
   "execution_count": 25,
   "metadata": {
    "collapsed": false
   },
   "outputs": [
    {
     "data": {
      "text/plain": [
       "17.238681823211998"
      ]
     },
     "execution_count": 25,
     "metadata": {},
     "output_type": "execute_result"
    }
   ],
   "source": [
    "(df.loc[\"jacob\"]**2).sum()"
   ]
  },
  {
   "cell_type": "code",
   "execution_count": 26,
   "metadata": {
    "collapsed": false
   },
   "outputs": [
    {
     "data": {
      "text/plain": [
       "8.1641383947182664"
      ]
     },
     "execution_count": 26,
     "metadata": {},
     "output_type": "execute_result"
    }
   ],
   "source": [
    "np.log10(df.dot(df.loc[\"perpendicularly\"]).apply(np.exp).sum())"
   ]
  },
  {
   "cell_type": "code",
   "execution_count": 27,
   "metadata": {
    "collapsed": false
   },
   "outputs": [
    {
     "data": {
      "text/plain": [
       "13.741790563569547"
      ]
     },
     "execution_count": 27,
     "metadata": {},
     "output_type": "execute_result"
    }
   ],
   "source": [
    "(df.loc[\"perpendicularly\"]**2).sum()"
   ]
  },
  {
   "cell_type": "code",
   "execution_count": 28,
   "metadata": {
    "collapsed": false
   },
   "outputs": [
    {
     "data": {
      "text/plain": [
       "<matplotlib.axes._subplots.AxesSubplot at 0x114f2cda0>"
      ]
     },
     "execution_count": 28,
     "metadata": {},
     "output_type": "execute_result"
    },
    {
     "data": {
      "image/png": "[encoded data removed]",
      "text/plain": [
       "<matplotlib.figure.Figure at 0x114f2c278>"
      ]
     },
     "metadata": {},
     "output_type": "display_data"
    }
   ],
   "source": [
    "df.mean().hist()"
   ]
  },
  {
   "cell_type": "code",
   "execution_count": 29,
   "metadata": {
    "collapsed": false
   },
   "outputs": [
    {
     "data": {
      "text/plain": [
       "<matplotlib.axes._subplots.AxesSubplot at 0x10b0672e8>"
      ]
     },
     "execution_count": 29,
     "metadata": {},
     "output_type": "execute_result"
    },
    {
     "data": {
      "image/png": "[encoded data removed]",
      "text/plain": [
       "<matplotlib.figure.Figure at 0x10a0f7b00>"
      ]
     },
     "metadata": {},
     "output_type": "display_data"
    }
   ],
   "source": [
    "df.std().hist()"
   ]
  },
  {
   "cell_type": "code",
   "execution_count": 42,
   "metadata": {
    "collapsed": false
   },
   "outputs": [
    {
     "data": {
      "text/html": [
       "<div>\n",
       "<table border=\"1\" class=\"dataframe\">\n",
       "  <thead>\n",
       "    <tr style=\"text-align: right;\">\n",
       "      <th></th>\n",
       "      <th>count</th>\n",
       "      <th>mean</th>\n",
       "      <th>std</th>\n",
       "      <th>min</th>\n",
       "      <th>25%</th>\n",
       "      <th>50%</th>\n",
       "      <th>75%</th>\n",
       "      <th>max</th>\n",
       "    </tr>\n",
       "  </thead>\n",
       "  <tbody>\n",
       "    <tr>\n",
       "      <th>31</th>\n",
       "      <td>400000.0</td>\n",
       "      <td>-0.812396</td>\n",
       "      <td>0.813446</td>\n",
       "      <td>-3.8988</td>\n",
       "      <td>-1.326400</td>\n",
       "      <td>-0.976440</td>\n",
       "      <td>-0.505598</td>\n",
       "      <td>4.3657</td>\n",
       "    </tr>\n",
       "    <tr>\n",
       "      <th>2</th>\n",
       "      <td>400000.0</td>\n",
       "      <td>-0.288662</td>\n",
       "      <td>0.613996</td>\n",
       "      <td>-3.6300</td>\n",
       "      <td>-0.683262</td>\n",
       "      <td>-0.315320</td>\n",
       "      <td>0.079589</td>\n",
       "      <td>4.0183</td>\n",
       "    </tr>\n",
       "    <tr>\n",
       "      <th>15</th>\n",
       "      <td>400000.0</td>\n",
       "      <td>-0.209238</td>\n",
       "      <td>0.604081</td>\n",
       "      <td>-4.5066</td>\n",
       "      <td>-0.596122</td>\n",
       "      <td>-0.211695</td>\n",
       "      <td>0.173310</td>\n",
       "      <td>4.3066</td>\n",
       "    </tr>\n",
       "    <tr>\n",
       "      <th>5</th>\n",
       "      <td>400000.0</td>\n",
       "      <td>-0.202111</td>\n",
       "      <td>0.639919</td>\n",
       "      <td>-4.0549</td>\n",
       "      <td>-0.611740</td>\n",
       "      <td>-0.207160</td>\n",
       "      <td>0.205995</td>\n",
       "      <td>4.6014</td>\n",
       "    </tr>\n",
       "    <tr>\n",
       "      <th>42</th>\n",
       "      <td>400000.0</td>\n",
       "      <td>-0.174463</td>\n",
       "      <td>0.608277</td>\n",
       "      <td>-3.4849</td>\n",
       "      <td>-0.576230</td>\n",
       "      <td>-0.201420</td>\n",
       "      <td>0.199200</td>\n",
       "      <td>4.5087</td>\n",
       "    </tr>\n",
       "    <tr>\n",
       "      <th>46</th>\n",
       "      <td>400000.0</td>\n",
       "      <td>-0.137049</td>\n",
       "      <td>0.620790</td>\n",
       "      <td>-3.5133</td>\n",
       "      <td>-0.532460</td>\n",
       "      <td>-0.156920</td>\n",
       "      <td>0.238690</td>\n",
       "      <td>4.5894</td>\n",
       "    </tr>\n",
       "    <tr>\n",
       "      <th>1</th>\n",
       "      <td>400000.0</td>\n",
       "      <td>-0.129201</td>\n",
       "      <td>0.636704</td>\n",
       "      <td>-5.4593</td>\n",
       "      <td>-0.534942</td>\n",
       "      <td>-0.133555</td>\n",
       "      <td>0.274582</td>\n",
       "      <td>3.8740</td>\n",
       "    </tr>\n",
       "    <tr>\n",
       "      <th>21</th>\n",
       "      <td>400000.0</td>\n",
       "      <td>-0.122577</td>\n",
       "      <td>0.631929</td>\n",
       "      <td>-3.8184</td>\n",
       "      <td>-0.527995</td>\n",
       "      <td>-0.128515</td>\n",
       "      <td>0.278800</td>\n",
       "      <td>4.7953</td>\n",
       "    </tr>\n",
       "    <tr>\n",
       "      <th>22</th>\n",
       "      <td>400000.0</td>\n",
       "      <td>-0.099169</td>\n",
       "      <td>0.585456</td>\n",
       "      <td>-4.0660</td>\n",
       "      <td>-0.477312</td>\n",
       "      <td>-0.100540</td>\n",
       "      <td>0.274343</td>\n",
       "      <td>3.6899</td>\n",
       "    </tr>\n",
       "    <tr>\n",
       "      <th>6</th>\n",
       "      <td>400000.0</td>\n",
       "      <td>-0.083890</td>\n",
       "      <td>0.665588</td>\n",
       "      <td>-5.3098</td>\n",
       "      <td>-0.492560</td>\n",
       "      <td>-0.074543</td>\n",
       "      <td>0.333940</td>\n",
       "      <td>4.8687</td>\n",
       "    </tr>\n",
       "    <tr>\n",
       "      <th>43</th>\n",
       "      <td>400000.0</td>\n",
       "      <td>-0.080118</td>\n",
       "      <td>0.608691</td>\n",
       "      <td>-3.1393</td>\n",
       "      <td>-0.474930</td>\n",
       "      <td>-0.092212</td>\n",
       "      <td>0.308303</td>\n",
       "      <td>3.9483</td>\n",
       "    </tr>\n",
       "    <tr>\n",
       "      <th>23</th>\n",
       "      <td>400000.0</td>\n",
       "      <td>-0.074960</td>\n",
       "      <td>0.600971</td>\n",
       "      <td>-4.9027</td>\n",
       "      <td>-0.454540</td>\n",
       "      <td>-0.082036</td>\n",
       "      <td>0.299233</td>\n",
       "      <td>3.7261</td>\n",
       "    </tr>\n",
       "    <tr>\n",
       "      <th>17</th>\n",
       "      <td>400000.0</td>\n",
       "      <td>-0.068224</td>\n",
       "      <td>0.599632</td>\n",
       "      <td>-4.3146</td>\n",
       "      <td>-0.453080</td>\n",
       "      <td>-0.073545</td>\n",
       "      <td>0.312412</td>\n",
       "      <td>3.8973</td>\n",
       "    </tr>\n",
       "    <tr>\n",
       "      <th>16</th>\n",
       "      <td>400000.0</td>\n",
       "      <td>-0.066131</td>\n",
       "      <td>0.550431</td>\n",
       "      <td>-3.7262</td>\n",
       "      <td>-0.413810</td>\n",
       "      <td>-0.061323</td>\n",
       "      <td>0.280990</td>\n",
       "      <td>4.2515</td>\n",
       "    </tr>\n",
       "    <tr>\n",
       "      <th>39</th>\n",
       "      <td>400000.0</td>\n",
       "      <td>-0.065280</td>\n",
       "      <td>0.614892</td>\n",
       "      <td>-4.0912</td>\n",
       "      <td>-0.465850</td>\n",
       "      <td>-0.078026</td>\n",
       "      <td>0.324270</td>\n",
       "      <td>3.9630</td>\n",
       "    </tr>\n",
       "    <tr>\n",
       "      <th>4</th>\n",
       "      <td>400000.0</td>\n",
       "      <td>-0.056767</td>\n",
       "      <td>0.624203</td>\n",
       "      <td>-4.6252</td>\n",
       "      <td>-0.463890</td>\n",
       "      <td>-0.082614</td>\n",
       "      <td>0.325983</td>\n",
       "      <td>5.3101</td>\n",
       "    </tr>\n",
       "    <tr>\n",
       "      <th>32</th>\n",
       "      <td>400000.0</td>\n",
       "      <td>-0.046887</td>\n",
       "      <td>0.598991</td>\n",
       "      <td>-4.2495</td>\n",
       "      <td>-0.432802</td>\n",
       "      <td>-0.047385</td>\n",
       "      <td>0.336193</td>\n",
       "      <td>5.1352</td>\n",
       "    </tr>\n",
       "    <tr>\n",
       "      <th>35</th>\n",
       "      <td>400000.0</td>\n",
       "      <td>-0.039357</td>\n",
       "      <td>0.579811</td>\n",
       "      <td>-4.3744</td>\n",
       "      <td>-0.402560</td>\n",
       "      <td>-0.037065</td>\n",
       "      <td>0.325290</td>\n",
       "      <td>3.4644</td>\n",
       "    </tr>\n",
       "    <tr>\n",
       "      <th>38</th>\n",
       "      <td>400000.0</td>\n",
       "      <td>-0.034053</td>\n",
       "      <td>0.602058</td>\n",
       "      <td>-4.1218</td>\n",
       "      <td>-0.413230</td>\n",
       "      <td>-0.024835</td>\n",
       "      <td>0.351530</td>\n",
       "      <td>3.5408</td>\n",
       "    </tr>\n",
       "    <tr>\n",
       "      <th>37</th>\n",
       "      <td>400000.0</td>\n",
       "      <td>-0.015537</td>\n",
       "      <td>0.534566</td>\n",
       "      <td>-3.4706</td>\n",
       "      <td>-0.353175</td>\n",
       "      <td>-0.014771</td>\n",
       "      <td>0.323190</td>\n",
       "      <td>3.7448</td>\n",
       "    </tr>\n",
       "    <tr>\n",
       "      <th>29</th>\n",
       "      <td>400000.0</td>\n",
       "      <td>-0.012738</td>\n",
       "      <td>0.613401</td>\n",
       "      <td>-4.1107</td>\n",
       "      <td>-0.392210</td>\n",
       "      <td>-0.004683</td>\n",
       "      <td>0.374010</td>\n",
       "      <td>4.3968</td>\n",
       "    </tr>\n",
       "    <tr>\n",
       "      <th>3</th>\n",
       "      <td>400000.0</td>\n",
       "      <td>-0.012249</td>\n",
       "      <td>0.612466</td>\n",
       "      <td>-3.8835</td>\n",
       "      <td>-0.407460</td>\n",
       "      <td>-0.009604</td>\n",
       "      <td>0.386820</td>\n",
       "      <td>3.9775</td>\n",
       "    </tr>\n",
       "    <tr>\n",
       "      <th>45</th>\n",
       "      <td>400000.0</td>\n",
       "      <td>-0.010416</td>\n",
       "      <td>0.627500</td>\n",
       "      <td>-5.1941</td>\n",
       "      <td>-0.408950</td>\n",
       "      <td>-0.012345</td>\n",
       "      <td>0.388230</td>\n",
       "      <td>3.5328</td>\n",
       "    </tr>\n",
       "    <tr>\n",
       "      <th>12</th>\n",
       "      <td>400000.0</td>\n",
       "      <td>-0.002858</td>\n",
       "      <td>0.645607</td>\n",
       "      <td>-3.5465</td>\n",
       "      <td>-0.417735</td>\n",
       "      <td>0.025340</td>\n",
       "      <td>0.426322</td>\n",
       "      <td>3.9505</td>\n",
       "    </tr>\n",
       "    <tr>\n",
       "      <th>49</th>\n",
       "      <td>400000.0</td>\n",
       "      <td>0.006530</td>\n",
       "      <td>0.600067</td>\n",
       "      <td>-4.6151</td>\n",
       "      <td>-0.373643</td>\n",
       "      <td>0.001320</td>\n",
       "      <td>0.385100</td>\n",
       "      <td>4.8228</td>\n",
       "    </tr>\n",
       "    <tr>\n",
       "      <th>50</th>\n",
       "      <td>400000.0</td>\n",
       "      <td>0.016851</td>\n",
       "      <td>0.623284</td>\n",
       "      <td>-3.9153</td>\n",
       "      <td>-0.392800</td>\n",
       "      <td>0.002287</td>\n",
       "      <td>0.416022</td>\n",
       "      <td>4.1785</td>\n",
       "    </tr>\n",
       "    <tr>\n",
       "      <th>30</th>\n",
       "      <td>400000.0</td>\n",
       "      <td>0.034741</td>\n",
       "      <td>0.584630</td>\n",
       "      <td>-3.9724</td>\n",
       "      <td>-0.334700</td>\n",
       "      <td>0.038146</td>\n",
       "      <td>0.408733</td>\n",
       "      <td>3.3109</td>\n",
       "    </tr>\n",
       "    <tr>\n",
       "      <th>9</th>\n",
       "      <td>400000.0</td>\n",
       "      <td>0.038675</td>\n",
       "      <td>0.645970</td>\n",
       "      <td>-3.7927</td>\n",
       "      <td>-0.360852</td>\n",
       "      <td>0.043624</td>\n",
       "      <td>0.443952</td>\n",
       "      <td>3.9734</td>\n",
       "    </tr>\n",
       "    <tr>\n",
       "      <th>14</th>\n",
       "      <td>400000.0</td>\n",
       "      <td>0.046137</td>\n",
       "      <td>0.650038</td>\n",
       "      <td>-3.7531</td>\n",
       "      <td>-0.377560</td>\n",
       "      <td>0.038331</td>\n",
       "      <td>0.462772</td>\n",
       "      <td>4.5372</td>\n",
       "    </tr>\n",
       "    <tr>\n",
       "      <th>11</th>\n",
       "      <td>400000.0</td>\n",
       "      <td>0.046966</td>\n",
       "      <td>0.560269</td>\n",
       "      <td>-3.8162</td>\n",
       "      <td>-0.309780</td>\n",
       "      <td>0.048175</td>\n",
       "      <td>0.409342</td>\n",
       "      <td>2.8942</td>\n",
       "    </tr>\n",
       "    <tr>\n",
       "      <th>28</th>\n",
       "      <td>400000.0</td>\n",
       "      <td>0.053354</td>\n",
       "      <td>0.535455</td>\n",
       "      <td>-3.2677</td>\n",
       "      <td>-0.299203</td>\n",
       "      <td>0.040437</td>\n",
       "      <td>0.393960</td>\n",
       "      <td>3.8773</td>\n",
       "    </tr>\n",
       "    <tr>\n",
       "      <th>24</th>\n",
       "      <td>400000.0</td>\n",
       "      <td>0.064132</td>\n",
       "      <td>0.585228</td>\n",
       "      <td>-3.2264</td>\n",
       "      <td>-0.322063</td>\n",
       "      <td>0.057326</td>\n",
       "      <td>0.444350</td>\n",
       "      <td>4.7286</td>\n",
       "    </tr>\n",
       "    <tr>\n",
       "      <th>36</th>\n",
       "      <td>400000.0</td>\n",
       "      <td>0.069675</td>\n",
       "      <td>0.533894</td>\n",
       "      <td>-3.0628</td>\n",
       "      <td>-0.266760</td>\n",
       "      <td>0.071697</td>\n",
       "      <td>0.411843</td>\n",
       "      <td>3.7118</td>\n",
       "    </tr>\n",
       "    <tr>\n",
       "      <th>18</th>\n",
       "      <td>400000.0</td>\n",
       "      <td>0.076659</td>\n",
       "      <td>0.599223</td>\n",
       "      <td>-4.4759</td>\n",
       "      <td>-0.294620</td>\n",
       "      <td>0.087800</td>\n",
       "      <td>0.461840</td>\n",
       "      <td>3.6482</td>\n",
       "    </tr>\n",
       "    <tr>\n",
       "      <th>44</th>\n",
       "      <td>400000.0</td>\n",
       "      <td>0.084952</td>\n",
       "      <td>0.629454</td>\n",
       "      <td>-3.7888</td>\n",
       "      <td>-0.320230</td>\n",
       "      <td>0.097806</td>\n",
       "      <td>0.500650</td>\n",
       "      <td>5.0756</td>\n",
       "    </tr>\n",
       "    <tr>\n",
       "      <th>48</th>\n",
       "      <td>400000.0</td>\n",
       "      <td>0.100693</td>\n",
       "      <td>0.615509</td>\n",
       "      <td>-4.7231</td>\n",
       "      <td>-0.285080</td>\n",
       "      <td>0.102910</td>\n",
       "      <td>0.485930</td>\n",
       "      <td>4.5419</td>\n",
       "    </tr>\n",
       "    <tr>\n",
       "      <th>40</th>\n",
       "      <td>400000.0</td>\n",
       "      <td>0.122501</td>\n",
       "      <td>0.601261</td>\n",
       "      <td>-3.9399</td>\n",
       "      <td>-0.265443</td>\n",
       "      <td>0.111080</td>\n",
       "      <td>0.501470</td>\n",
       "      <td>3.5539</td>\n",
       "    </tr>\n",
       "    <tr>\n",
       "      <th>41</th>\n",
       "      <td>400000.0</td>\n",
       "      <td>0.139920</td>\n",
       "      <td>0.570008</td>\n",
       "      <td>-3.9102</td>\n",
       "      <td>-0.220583</td>\n",
       "      <td>0.133390</td>\n",
       "      <td>0.490880</td>\n",
       "      <td>3.9230</td>\n",
       "    </tr>\n",
       "    <tr>\n",
       "      <th>25</th>\n",
       "      <td>400000.0</td>\n",
       "      <td>0.144413</td>\n",
       "      <td>0.594604</td>\n",
       "      <td>-4.7597</td>\n",
       "      <td>-0.212320</td>\n",
       "      <td>0.172165</td>\n",
       "      <td>0.527890</td>\n",
       "      <td>3.6940</td>\n",
       "    </tr>\n",
       "    <tr>\n",
       "      <th>8</th>\n",
       "      <td>400000.0</td>\n",
       "      <td>0.160451</td>\n",
       "      <td>0.608380</td>\n",
       "      <td>-3.9349</td>\n",
       "      <td>-0.213180</td>\n",
       "      <td>0.189620</td>\n",
       "      <td>0.564470</td>\n",
       "      <td>3.6279</td>\n",
       "    </tr>\n",
       "    <tr>\n",
       "      <th>27</th>\n",
       "      <td>400000.0</td>\n",
       "      <td>0.174631</td>\n",
       "      <td>0.664702</td>\n",
       "      <td>-3.8536</td>\n",
       "      <td>-0.252922</td>\n",
       "      <td>0.188925</td>\n",
       "      <td>0.611930</td>\n",
       "      <td>4.9310</td>\n",
       "    </tr>\n",
       "    <tr>\n",
       "      <th>10</th>\n",
       "      <td>400000.0</td>\n",
       "      <td>0.178331</td>\n",
       "      <td>0.619217</td>\n",
       "      <td>-3.8163</td>\n",
       "      <td>-0.204772</td>\n",
       "      <td>0.195080</td>\n",
       "      <td>0.576370</td>\n",
       "      <td>3.7879</td>\n",
       "    </tr>\n",
       "    <tr>\n",
       "      <th>20</th>\n",
       "      <td>400000.0</td>\n",
       "      <td>0.178485</td>\n",
       "      <td>0.608510</td>\n",
       "      <td>-3.7860</td>\n",
       "      <td>-0.210160</td>\n",
       "      <td>0.179705</td>\n",
       "      <td>0.568000</td>\n",
       "      <td>3.7942</td>\n",
       "    </tr>\n",
       "    <tr>\n",
       "      <th>47</th>\n",
       "      <td>400000.0</td>\n",
       "      <td>0.201271</td>\n",
       "      <td>0.558487</td>\n",
       "      <td>-3.0775</td>\n",
       "      <td>-0.151080</td>\n",
       "      <td>0.205290</td>\n",
       "      <td>0.557160</td>\n",
       "      <td>4.2345</td>\n",
       "    </tr>\n",
       "    <tr>\n",
       "      <th>33</th>\n",
       "      <td>400000.0</td>\n",
       "      <td>0.201935</td>\n",
       "      <td>0.581301</td>\n",
       "      <td>-4.4092</td>\n",
       "      <td>-0.149832</td>\n",
       "      <td>0.221315</td>\n",
       "      <td>0.573603</td>\n",
       "      <td>5.2849</td>\n",
       "    </tr>\n",
       "    <tr>\n",
       "      <th>34</th>\n",
       "      <td>400000.0</td>\n",
       "      <td>0.203111</td>\n",
       "      <td>0.642924</td>\n",
       "      <td>-4.5087</td>\n",
       "      <td>-0.206210</td>\n",
       "      <td>0.194810</td>\n",
       "      <td>0.605422</td>\n",
       "      <td>4.6438</td>\n",
       "    </tr>\n",
       "    <tr>\n",
       "      <th>13</th>\n",
       "      <td>400000.0</td>\n",
       "      <td>0.290999</td>\n",
       "      <td>0.635357</td>\n",
       "      <td>-3.1461</td>\n",
       "      <td>-0.115310</td>\n",
       "      <td>0.308000</td>\n",
       "      <td>0.718840</td>\n",
       "      <td>4.1071</td>\n",
       "    </tr>\n",
       "    <tr>\n",
       "      <th>19</th>\n",
       "      <td>400000.0</td>\n",
       "      <td>0.313399</td>\n",
       "      <td>0.634468</td>\n",
       "      <td>-3.4656</td>\n",
       "      <td>-0.082632</td>\n",
       "      <td>0.348150</td>\n",
       "      <td>0.739220</td>\n",
       "      <td>3.7863</td>\n",
       "    </tr>\n",
       "    <tr>\n",
       "      <th>7</th>\n",
       "      <td>400000.0</td>\n",
       "      <td>0.333597</td>\n",
       "      <td>0.623440</td>\n",
       "      <td>-3.4271</td>\n",
       "      <td>-0.059535</td>\n",
       "      <td>0.348130</td>\n",
       "      <td>0.737252</td>\n",
       "      <td>3.8637</td>\n",
       "    </tr>\n",
       "    <tr>\n",
       "      <th>26</th>\n",
       "      <td>400000.0</td>\n",
       "      <td>0.608946</td>\n",
       "      <td>0.646600</td>\n",
       "      <td>-3.0575</td>\n",
       "      <td>0.256927</td>\n",
       "      <td>0.692060</td>\n",
       "      <td>1.050200</td>\n",
       "      <td>3.6912</td>\n",
       "    </tr>\n",
       "  </tbody>\n",
       "</table>\n",
       "</div>"
      ],
      "text/plain": [
       "       count      mean       std     min       25%       50%       75%     max\n",
       "31  400000.0 -0.812396  0.813446 -3.8988 -1.326400 -0.976440 -0.505598  4.3657\n",
       "2   400000.0 -0.288662  0.613996 -3.6300 -0.683262 -0.315320  0.079589  4.0183\n",
       "15  400000.0 -0.209238  0.604081 -4.5066 -0.596122 -0.211695  0.173310  4.3066\n",
       "5   400000.0 -0.202111  0.639919 -4.0549 -0.611740 -0.207160  0.205995  4.6014\n",
       "42  400000.0 -0.174463  0.608277 -3.4849 -0.576230 -0.201420  0.199200  4.5087\n",
       "46  400000.0 -0.137049  0.620790 -3.5133 -0.532460 -0.156920  0.238690  4.5894\n",
       "1   400000.0 -0.129201  0.636704 -5.4593 -0.534942 -0.133555  0.274582  3.8740\n",
       "21  400000.0 -0.122577  0.631929 -3.8184 -0.527995 -0.128515  0.278800  4.7953\n",
       "22  400000.0 -0.099169  0.585456 -4.0660 -0.477312 -0.100540  0.274343  3.6899\n",
       "6   400000.0 -0.083890  0.665588 -5.3098 -0.492560 -0.074543  0.333940  4.8687\n",
       "43  400000.0 -0.080118  0.608691 -3.1393 -0.474930 -0.092212  0.308303  3.9483\n",
       "23  400000.0 -0.074960  0.600971 -4.9027 -0.454540 -0.082036  0.299233  3.7261\n",
       "17  400000.0 -0.068224  0.599632 -4.3146 -0.453080 -0.073545  0.312412  3.8973\n",
       "16  400000.0 -0.066131  0.550431 -3.7262 -0.413810 -0.061323  0.280990  4.2515\n",
       "39  400000.0 -0.065280  0.614892 -4.0912 -0.465850 -0.078026  0.324270  3.9630\n",
       "4   400000.0 -0.056767  0.624203 -4.6252 -0.463890 -0.082614  0.325983  5.3101\n",
       "32  400000.0 -0.046887  0.598991 -4.2495 -0.432802 -0.047385  0.336193  5.1352\n",
       "35  400000.0 -0.039357  0.579811 -4.3744 -0.402560 -0.037065  0.325290  3.4644\n",
       "38  400000.0 -0.034053  0.602058 -4.1218 -0.413230 -0.024835  0.351530  3.5408\n",
       "37  400000.0 -0.015537  0.534566 -3.4706 -0.353175 -0.014771  0.323190  3.7448\n",
       "29  400000.0 -0.012738  0.613401 -4.1107 -0.392210 -0.004683  0.374010  4.3968\n",
       "3   400000.0 -0.012249  0.612466 -3.8835 -0.407460 -0.009604  0.386820  3.9775\n",
       "45  400000.0 -0.010416  0.627500 -5.1941 -0.408950 -0.012345  0.388230  3.5328\n",
       "12  400000.0 -0.002858  0.645607 -3.5465 -0.417735  0.025340  0.426322  3.9505\n",
       "49  400000.0  0.006530  0.600067 -4.6151 -0.373643  0.001320  0.385100  4.8228\n",
       "50  400000.0  0.016851  0.623284 -3.9153 -0.392800  0.002287  0.416022  4.1785\n",
       "30  400000.0  0.034741  0.584630 -3.9724 -0.334700  0.038146  0.408733  3.3109\n",
       "9   400000.0  0.038675  0.645970 -3.7927 -0.360852  0.043624  0.443952  3.9734\n",
       "14  400000.0  0.046137  0.650038 -3.7531 -0.377560  0.038331  0.462772  4.5372\n",
       "11  400000.0  0.046966  0.560269 -3.8162 -0.309780  0.048175  0.409342  2.8942\n",
       "28  400000.0  0.053354  0.535455 -3.2677 -0.299203  0.040437  0.393960  3.8773\n",
       "24  400000.0  0.064132  0.585228 -3.2264 -0.322063  0.057326  0.444350  4.7286\n",
       "36  400000.0  0.069675  0.533894 -3.0628 -0.266760  0.071697  0.411843  3.7118\n",
       "18  400000.0  0.076659  0.599223 -4.4759 -0.294620  0.087800  0.461840  3.6482\n",
       "44  400000.0  0.084952  0.629454 -3.7888 -0.320230  0.097806  0.500650  5.0756\n",
       "48  400000.0  0.100693  0.615509 -4.7231 -0.285080  0.102910  0.485930  4.5419\n",
       "40  400000.0  0.122501  0.601261 -3.9399 -0.265443  0.111080  0.501470  3.5539\n",
       "41  400000.0  0.139920  0.570008 -3.9102 -0.220583  0.133390  0.490880  3.9230\n",
       "25  400000.0  0.144413  0.594604 -4.7597 -0.212320  0.172165  0.527890  3.6940\n",
       "8   400000.0  0.160451  0.608380 -3.9349 -0.213180  0.189620  0.564470  3.6279\n",
       "27  400000.0  0.174631  0.664702 -3.8536 -0.252922  0.188925  0.611930  4.9310\n",
       "10  400000.0  0.178331  0.619217 -3.8163 -0.204772  0.195080  0.576370  3.7879\n",
       "20  400000.0  0.178485  0.608510 -3.7860 -0.210160  0.179705  0.568000  3.7942\n",
       "47  400000.0  0.201271  0.558487 -3.0775 -0.151080  0.205290  0.557160  4.2345\n",
       "33  400000.0  0.201935  0.581301 -4.4092 -0.149832  0.221315  0.573603  5.2849\n",
       "34  400000.0  0.203111  0.642924 -4.5087 -0.206210  0.194810  0.605422  4.6438\n",
       "13  400000.0  0.290999  0.635357 -3.1461 -0.115310  0.308000  0.718840  4.1071\n",
       "19  400000.0  0.313399  0.634468 -3.4656 -0.082632  0.348150  0.739220  3.7863\n",
       "7   400000.0  0.333597  0.623440 -3.4271 -0.059535  0.348130  0.737252  3.8637\n",
       "26  400000.0  0.608946  0.646600 -3.0575  0.256927  0.692060  1.050200  3.6912"
      ]
     },
     "execution_count": 42,
     "metadata": {},
     "output_type": "execute_result"
    }
   ],
   "source": [
    "df.describe().transpose().sort_values(by=\"mean\")"
   ]
  },
  {
   "cell_type": "code",
   "execution_count": 31,
   "metadata": {
    "collapsed": false
   },
   "outputs": [],
   "source": [
    "mean_vec = df.mean()"
   ]
  },
  {
   "cell_type": "code",
   "execution_count": 32,
   "metadata": {
    "collapsed": true
   },
   "outputs": [],
   "source": [
    "mean_proj = df.dot(mean_vec)"
   ]
  },
  {
   "cell_type": "code",
   "execution_count": 37,
   "metadata": {
    "collapsed": false
   },
   "outputs": [
    {
     "data": {
      "text/plain": [
       "0\n",
       "-           -6.170805\n",
       "that        -5.959209\n",
       "they        -5.948256\n",
       "have        -5.922137\n",
       "last        -5.905700\n",
       "we          -5.892062\n",
       "he          -5.884218\n",
       "'s          -5.863326\n",
       "--          -5.857554\n",
       "will        -5.854337\n",
       "n't         -5.841485\n",
       "not         -5.822129\n",
       "would       -5.804796\n",
       "president   -5.798364\n",
       "new         -5.788837\n",
       "year        -5.769288\n",
       "what        -5.746461\n",
       "i           -5.740533\n",
       "fdch        -5.736345\n",
       "for         -5.728456\n",
       "``          -5.723867\n",
       "on          -5.708116\n",
       "had         -5.691612\n",
       "the         -5.685692\n",
       "be          -5.683661\n",
       "two         -5.682686\n",
       "it          -5.682052\n",
       "to          -5.681142\n",
       "his         -5.676704\n",
       "u.s.        -5.668024\n",
       "               ...   \n",
       "those       -5.442408\n",
       "other       -5.442136\n",
       "just        -5.439135\n",
       "before      -5.438054\n",
       "_           -5.436945\n",
       "there       -5.433847\n",
       "because     -5.429607\n",
       "more        -5.416661\n",
       "its         -5.414382\n",
       "thursday    -5.412999\n",
       "first       -5.411986\n",
       "did         -5.409023\n",
       "no          -5.399433\n",
       "american    -5.397120\n",
       "over        -5.395584\n",
       "five        -5.393520\n",
       "her         -5.390923\n",
       "them        -5.382668\n",
       "$           -5.381249\n",
       "were        -5.380276\n",
       "which       -5.371762\n",
       "people      -5.371505\n",
       "how         -5.370524\n",
       "now         -5.369616\n",
       "take        -5.368885\n",
       "some        -5.359272\n",
       "with        -5.355363\n",
       "than        -5.353363\n",
       "month       -5.347900\n",
       ".           -5.342025\n",
       "dtype: float64"
      ]
     },
     "execution_count": 37,
     "metadata": {},
     "output_type": "execute_result"
    }
   ],
   "source": [
    "mean_proj.sort_values().head(100)"
   ]
  },
  {
   "cell_type": "code",
   "execution_count": 45,
   "metadata": {
    "collapsed": true
   },
   "outputs": [],
   "source": [
    "from numpy.linalg import norm"
   ]
  },
  {
   "cell_type": "code",
   "execution_count": 47,
   "metadata": {
    "collapsed": false
   },
   "outputs": [],
   "source": [
    "mean_vec_n = mean_vec / norm(mean_vec)"
   ]
  },
  {
   "cell_type": "code",
   "execution_count": 62,
   "metadata": {
    "collapsed": false
   },
   "outputs": [],
   "source": [
    "df_unshifted = df - pd.DataFrame(np.outer(df.dot(mean_vec_n), mean_vec_n), index=df.index, columns=df.columns)"
   ]
  },
  {
   "cell_type": "code",
   "execution_count": 64,
   "metadata": {
    "collapsed": false
   },
   "outputs": [
    {
     "data": {
      "text/plain": [
       "8.8030616129941567e-15"
      ]
     },
     "execution_count": 64,
     "metadata": {},
     "output_type": "execute_result"
    }
   ],
   "source": [
    "df_unshifted.mean().abs().max()"
   ]
  },
  {
   "cell_type": "code",
   "execution_count": 68,
   "metadata": {
    "collapsed": false
   },
   "outputs": [
    {
     "data": {
      "text/plain": [
       "0\n",
       "non-families                               199.417141\n",
       "202-383-7824                               195.569406\n",
       "www.star                                   163.211159\n",
       "non-institutionalized                      163.150206\n",
       "non-obligatory                             162.817617\n",
       "republish                                  155.937709\n",
       "officership                                155.696956\n",
       "http://www.nyse.com                        153.062715\n",
       "20003                                      152.100698\n",
       "25-64                                      150.795639\n",
       "puhs                                       146.790805\n",
       "dehl                                       145.882788\n",
       "eighteens                                  144.601944\n",
       "afptv                                      142.299335\n",
       "computerologist                            141.591131\n",
       "http://www.nasdaq.com                      138.823259\n",
       "palaeographically                          135.786117\n",
       "hushen                                     134.577852\n",
       "story3d                                    133.725282\n",
       "warmian-masurian                           131.719464\n",
       "gorondi                                    130.863861\n",
       "d'orso                                     130.275335\n",
       "1-800-444-0267                             130.160576\n",
       "78.19                                      129.046510\n",
       "212-556-4204                               128.739763\n",
       "nahn                                       127.921057\n",
       "yahn                                       127.235386\n",
       "paginated                                  126.938000\n",
       "sih                                        125.944939\n",
       "passeriformes                              125.392330\n",
       "                                              ...    \n",
       "tom.fowler@chron.com                         0.479043\n",
       "rw95                                         0.477865\n",
       "kd95                                         0.473642\n",
       "k586-1                                       0.472434\n",
       "js04bb                                       0.448236\n",
       "str94                                        0.441492\n",
       "28aou94                                      0.429508\n",
       "kd96                                         0.423538\n",
       "gph04bb                                      0.422751\n",
       "greg.wilcoxdailynews.com                     0.412774\n",
       "mangxamba                                    0.410380\n",
       "js03                                         0.265209\n",
       "em96                                         0.254199\n",
       "kd94                                         0.245243\n",
       "kd97                                         0.203257\n",
       "bb94                                         0.179869\n",
       "piyanart                                     0.141518\n",
       "srivalo                                      0.141453\n",
       "24aou94                                      0.133098\n",
       "ooooooooooooooooooooooooooooooooooooooo      0.098433\n",
       "mo95                                         0.003910\n",
       "str95bb                                      0.003561\n",
       "http://www.mediabynumbers.com                0.003544\n",
       "k977-1                                       0.003425\n",
       "js94bb                                       0.003236\n",
       "bb96                                         0.003215\n",
       "bdb94                                        0.003188\n",
       "bulletinyyy                                  0.002915\n",
       "k587-1                                       0.002785\n",
       "k978-1                                       0.002198\n",
       "dtype: float64"
      ]
     },
     "execution_count": 68,
     "metadata": {},
     "output_type": "execute_result"
    }
   ],
   "source": [
    "(df_unshifted**2).sum(axis=1).sort_values(ascending=False)"
   ]
  },
  {
   "cell_type": "code",
   "execution_count": null,
   "metadata": {
    "collapsed": true
   },
   "outputs": [],
   "source": []
  }
 ],
 "metadata": {
  "anaconda-cloud": {},
  "kernelspec": {
   "display_name": "IPython (Python 3)",
   "language": "python",
   "name": "python3"
  },
  "language_info": {
   "codemirror_mode": {
    "name": "ipython",
    "version": 3
   },
   "file_extension": ".py",
   "mimetype": "text/x-python",
   "name": "python",
   "nbconvert_exporter": "python",
   "pygments_lexer": "ipython3",
   "version": "3.4.3"
  }
 },
 "nbformat": 4,
 "nbformat_minor": 0
}
